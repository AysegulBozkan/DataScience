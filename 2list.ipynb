{
 "cells": [
  {
   "cell_type": "markdown",
   "id": "b599791b",
   "metadata": {},
   "source": [
    "# List"
   ]
  },
  {
   "cell_type": "code",
   "execution_count": 16,
   "id": "1c08c359",
   "metadata": {},
   "outputs": [
    {
     "data": {
      "text/plain": [
       "[5, 7, 3, 6, 18, 9]"
      ]
     },
     "execution_count": 16,
     "metadata": {},
     "output_type": "execute_result"
    }
   ],
   "source": [
    "my_list = [5,7,3,6,18,9]\n",
    "my_list"
   ]
  },
  {
   "cell_type": "code",
   "execution_count": 2,
   "id": "e1cdb770",
   "metadata": {},
   "outputs": [
    {
     "data": {
      "text/plain": [
       "list"
      ]
     },
     "execution_count": 2,
     "metadata": {},
     "output_type": "execute_result"
    }
   ],
   "source": [
    "type(my_list)"
   ]
  },
  {
   "cell_type": "code",
   "execution_count": 3,
   "id": "a2f5ecb8",
   "metadata": {},
   "outputs": [
    {
     "data": {
      "text/plain": [
       "5"
      ]
     },
     "execution_count": 3,
     "metadata": {},
     "output_type": "execute_result"
    }
   ],
   "source": [
    "my_list[0]"
   ]
  },
  {
   "cell_type": "code",
   "execution_count": 4,
   "id": "8bbc9701",
   "metadata": {},
   "outputs": [
    {
     "data": {
      "text/plain": [
       "7"
      ]
     },
     "execution_count": 4,
     "metadata": {},
     "output_type": "execute_result"
    }
   ],
   "source": [
    "my_list[1]"
   ]
  },
  {
   "cell_type": "code",
   "execution_count": 5,
   "id": "65fd27ca",
   "metadata": {},
   "outputs": [
    {
     "data": {
      "text/plain": [
       "3"
      ]
     },
     "execution_count": 5,
     "metadata": {},
     "output_type": "execute_result"
    }
   ],
   "source": [
    "### ikinci index deki elemanı bulalım\n",
    "my_list[2]"
   ]
  },
  {
   "cell_type": "code",
   "execution_count": 6,
   "id": "d52ea84e",
   "metadata": {},
   "outputs": [
    {
     "data": {
      "text/plain": [
       "9"
      ]
     },
     "execution_count": 6,
     "metadata": {},
     "output_type": "execute_result"
    }
   ],
   "source": [
    "###listedeki sonuncu elemanı bulalım\n",
    "my_list[-1]"
   ]
  },
  {
   "cell_type": "code",
   "execution_count": 8,
   "id": "037cc10d",
   "metadata": {},
   "outputs": [
    {
     "data": {
      "text/plain": [
       "[5, 7, 3, 6]"
      ]
     },
     "execution_count": 8,
     "metadata": {},
     "output_type": "execute_result"
    }
   ],
   "source": [
    "my_list[:4]"
   ]
  },
  {
   "cell_type": "code",
   "execution_count": 9,
   "id": "c01ffdab",
   "metadata": {},
   "outputs": [
    {
     "data": {
      "text/plain": [
       "[3, 6, 18]"
      ]
     },
     "execution_count": 9,
     "metadata": {},
     "output_type": "execute_result"
    }
   ],
   "source": [
    "###2. index den 5. indexe kadar olan elemanları bulalım\n",
    "my_list[2:5]"
   ]
  },
  {
   "cell_type": "code",
   "execution_count": 11,
   "id": "5940b8b2",
   "metadata": {},
   "outputs": [
    {
     "data": {
      "text/plain": [
       "[5, 7, 3, 6, 18, 9]"
      ]
     },
     "execution_count": 11,
     "metadata": {},
     "output_type": "execute_result"
    }
   ],
   "source": [
    "my_list"
   ]
  },
  {
   "cell_type": "code",
   "execution_count": 10,
   "id": "995791df",
   "metadata": {},
   "outputs": [
    {
     "data": {
      "text/plain": [
       "[7, 3, 6]"
      ]
     },
     "execution_count": 10,
     "metadata": {},
     "output_type": "execute_result"
    }
   ],
   "source": [
    "my_list[1:-2]"
   ]
  },
  {
   "cell_type": "code",
   "execution_count": 12,
   "id": "b92267b0",
   "metadata": {},
   "outputs": [
    {
     "data": {
      "text/plain": [
       "[4, 9, 'Python', 5.7, 'Hi-Kod']"
      ]
     },
     "execution_count": 12,
     "metadata": {},
     "output_type": "execute_result"
    }
   ],
   "source": [
    "# listeler içinde farklı veri tipleri bulunabilir.\n",
    "new_list = [4,9,\"Python\",5.7,\"Hi-Kod\"]\n",
    "new_list"
   ]
  },
  {
   "cell_type": "code",
   "execution_count": 17,
   "id": "aadb597c",
   "metadata": {},
   "outputs": [
    {
     "data": {
      "text/plain": [
       "[5, 7, 3, 6, 18, 9]"
      ]
     },
     "execution_count": 17,
     "metadata": {},
     "output_type": "execute_result"
    }
   ],
   "source": [
    "my_list"
   ]
  },
  {
   "cell_type": "code",
   "execution_count": 18,
   "id": "c816d4c2",
   "metadata": {},
   "outputs": [
    {
     "data": {
      "text/plain": [
       "[5, 7, 'Merhaba', 6, 18, 9]"
      ]
     },
     "execution_count": 18,
     "metadata": {},
     "output_type": "execute_result"
    }
   ],
   "source": [
    "# 2. indexde bulunan elemanı Merhaba olarak değiştirelim.\n",
    "my_list[2] = \"Merhaba\"\n",
    "my_list"
   ]
  },
  {
   "cell_type": "code",
   "execution_count": 14,
   "id": "26b89958",
   "metadata": {},
   "outputs": [
    {
     "data": {
      "text/plain": [
       "[6, 'Elma', 5, [3, 'Armut', 1.2], [3.2, 8, 5]]"
      ]
     },
     "execution_count": 14,
     "metadata": {},
     "output_type": "execute_result"
    }
   ],
   "source": [
    "#Liste içinde liste bulunabilir.\n",
    "my_list2 = [6,\"Elma\",5,[3,\"Armut\",1.2],[3.2,8,5]]\n",
    "my_list2"
   ]
  },
  {
   "cell_type": "code",
   "execution_count": 19,
   "id": "7507284b",
   "metadata": {},
   "outputs": [
    {
     "data": {
      "text/plain": [
       "['Hi-Kod', 'Veri', 'Bilimi', 'Atölyesi']"
      ]
     },
     "execution_count": 19,
     "metadata": {},
     "output_type": "execute_result"
    }
   ],
   "source": [
    "atolye = \"Hi-Kod Veri Bilimi Atölyesi\"\n",
    "atolye_list = atolye.split()\n",
    "atolye_list"
   ]
  },
  {
   "cell_type": "code",
   "execution_count": 20,
   "id": "d0963318",
   "metadata": {},
   "outputs": [
    {
     "data": {
      "text/plain": [
       "list"
      ]
     },
     "execution_count": 20,
     "metadata": {},
     "output_type": "execute_result"
    }
   ],
   "source": [
    "type(atolye_list)"
   ]
  },
  {
   "cell_type": "code",
   "execution_count": 21,
   "id": "5bbb6d54",
   "metadata": {},
   "outputs": [
    {
     "data": {
      "text/plain": [
       "'Hi-Kod'"
      ]
     },
     "execution_count": 21,
     "metadata": {},
     "output_type": "execute_result"
    }
   ],
   "source": [
    "atolye_list[0]"
   ]
  },
  {
   "cell_type": "code",
   "execution_count": 23,
   "id": "b5ccb501",
   "metadata": {},
   "outputs": [
    {
     "data": {
      "text/plain": [
       "['elma', 'çilek', 'muz']"
      ]
     },
     "execution_count": 23,
     "metadata": {},
     "output_type": "execute_result"
    }
   ],
   "source": [
    "### split fonksiyonu kullanarak meyve isimlerini ayıralım\n",
    "meyveler = \"elma,çilek,muz\"\n",
    "meyveler_list=meyveler.split(\",\")\n",
    "meyveler_list"
   ]
  },
  {
   "cell_type": "code",
   "execution_count": 24,
   "id": "faba9139",
   "metadata": {},
   "outputs": [
    {
     "data": {
      "text/plain": [
       "['elma', 'çilek', 'muz']"
      ]
     },
     "execution_count": 24,
     "metadata": {},
     "output_type": "execute_result"
    }
   ],
   "source": [
    "meyveler = \"elma çilek muz\"\n",
    "meyveler_list=meyveler.split()\n",
    "meyveler_list"
   ]
  },
  {
   "cell_type": "code",
   "execution_count": 25,
   "id": "86c1a324",
   "metadata": {},
   "outputs": [
    {
     "data": {
      "text/plain": [
       "['H', '-Kod Ver', ' B', 'l', 'm', ' Atölyes', '']"
      ]
     },
     "execution_count": 25,
     "metadata": {},
     "output_type": "execute_result"
    }
   ],
   "source": [
    "atolye = \"Hi-Kod Veri Bilimi Atölyesi\"\n",
    "atolye.split(\"i\")"
   ]
  },
  {
   "cell_type": "code",
   "execution_count": 26,
   "id": "73aa75e3",
   "metadata": {},
   "outputs": [
    {
     "data": {
      "text/plain": [
       "[4, 9, 'Python', 5.7, 'Hi-Kod']"
      ]
     },
     "execution_count": 26,
     "metadata": {},
     "output_type": "execute_result"
    }
   ],
   "source": [
    "new_list"
   ]
  },
  {
   "cell_type": "code",
   "execution_count": 27,
   "id": "07245f90",
   "metadata": {},
   "outputs": [
    {
     "data": {
      "text/plain": [
       "5"
      ]
     },
     "execution_count": 27,
     "metadata": {},
     "output_type": "execute_result"
    }
   ],
   "source": [
    "len(new_list)"
   ]
  },
  {
   "cell_type": "code",
   "execution_count": 28,
   "id": "0bede9c5",
   "metadata": {},
   "outputs": [
    {
     "data": {
      "text/plain": [
       "[6, 'Elma', 5, [3, 'Armut', 1.2], [3.2, 8, 5]]"
      ]
     },
     "execution_count": 28,
     "metadata": {},
     "output_type": "execute_result"
    }
   ],
   "source": [
    "my_list2"
   ]
  },
  {
   "cell_type": "code",
   "execution_count": 29,
   "id": "a91f984d",
   "metadata": {},
   "outputs": [
    {
     "data": {
      "text/plain": [
       "5"
      ]
     },
     "execution_count": 29,
     "metadata": {},
     "output_type": "execute_result"
    }
   ],
   "source": [
    "len(my_list2)"
   ]
  },
  {
   "cell_type": "code",
   "execution_count": 30,
   "id": "ae6b1de2",
   "metadata": {},
   "outputs": [
    {
     "data": {
      "text/plain": [
       "(3, 4, 9, 5)"
      ]
     },
     "execution_count": 30,
     "metadata": {},
     "output_type": "execute_result"
    }
   ],
   "source": [
    "sayilar = 3,4,9,5\n",
    "sayilar"
   ]
  },
  {
   "cell_type": "code",
   "execution_count": 31,
   "id": "3f7314f7",
   "metadata": {},
   "outputs": [
    {
     "data": {
      "text/plain": [
       "tuple"
      ]
     },
     "execution_count": 31,
     "metadata": {},
     "output_type": "execute_result"
    }
   ],
   "source": [
    "type(sayilar)"
   ]
  },
  {
   "cell_type": "code",
   "execution_count": 32,
   "id": "6da41199",
   "metadata": {},
   "outputs": [
    {
     "data": {
      "text/plain": [
       "[3, 4, 9, 5]"
      ]
     },
     "execution_count": 32,
     "metadata": {},
     "output_type": "execute_result"
    }
   ],
   "source": [
    "list(sayilar)"
   ]
  },
  {
   "cell_type": "code",
   "execution_count": 33,
   "id": "5e3fe893",
   "metadata": {},
   "outputs": [
    {
     "data": {
      "text/plain": [
       "[0, 1, 2, 3, 4, 5, 6, 7, 8, 9]"
      ]
     },
     "execution_count": 33,
     "metadata": {},
     "output_type": "execute_result"
    }
   ],
   "source": [
    "# 0'dan 9'a kadar olan sayıları liste içinde tutalım\n",
    "list(range(0,10))"
   ]
  },
  {
   "cell_type": "code",
   "execution_count": 34,
   "id": "0b61cf50",
   "metadata": {},
   "outputs": [
    {
     "name": "stdout",
     "output_type": "stream",
     "text": [
      "elma\n",
      "muz\n",
      "çilek\n",
      "ayva\n",
      "üzüm\n"
     ]
    }
   ],
   "source": [
    "meyveler =[\"elma\",\"muz\",\"çilek\",\"ayva\",\"üzüm\"]\n",
    "for meyve in meyveler:\n",
    "    print(meyve)"
   ]
  },
  {
   "cell_type": "code",
   "execution_count": 41,
   "id": "0bc89da5",
   "metadata": {},
   "outputs": [
    {
     "name": "stdout",
     "output_type": "stream",
     "text": [
      "0\n",
      "1\n",
      "2\n",
      "3\n",
      "4\n",
      "5\n"
     ]
    }
   ],
   "source": [
    "### 0'dan başlayıp listenin elemanı kadar sayıyı yazdıralım.\n",
    "meyveler=[\"elma\",\"armut\",\"muz\",\"çilek\",\"ayva\",\"kiraz\"]\n",
    "\n",
    "for i in range(0,len(meyveler)):\n",
    "    print(i)"
   ]
  },
  {
   "cell_type": "code",
   "execution_count": 42,
   "id": "e3dfadef",
   "metadata": {},
   "outputs": [
    {
     "name": "stdout",
     "output_type": "stream",
     "text": [
      "0 .indexdeki ifade: elma\n",
      "1 .indexdeki ifade: armut\n",
      "2 .indexdeki ifade: muz\n",
      "3 .indexdeki ifade: çilek\n",
      "4 .indexdeki ifade: ayva\n"
     ]
    }
   ],
   "source": [
    "### BERABER YAPALIM!!!!\n",
    "### for döngüsü kullanarak meyveleri ve bulundukları indexleri yazdıralım\n",
    "### 0. indexte bulunan meyve: elma\n",
    "meyveler=[\"elma\",\"armut\",\"muz\",\"çilek\",\"ayva\"]\n",
    "\n",
    "for i in range(0,len(meyveler)):\n",
    "    print(\"{} .indexdeki ifade: {}\".format(i,meyveler[i]))"
   ]
  },
  {
   "cell_type": "code",
   "execution_count": 48,
   "id": "0ff1c8e3",
   "metadata": {},
   "outputs": [
    {
     "name": "stdout",
     "output_type": "stream",
     "text": [
      "0. indexte bulunan meyve: elma\n",
      "1. indexte bulunan meyve: armut\n",
      "2. indexte bulunan meyve: muz\n",
      "3. indexte bulunan meyve: çilek\n",
      "4. indexte bulunan meyve: ayva\n"
     ]
    }
   ],
   "source": [
    "meyveler=[\"elma\",\"armut\",\"muz\",\"çilek\",\"ayva\"]\n",
    "a=0\n",
    "for meyve in meyveler:\n",
    "    print(f'{a}. indexte bulunan meyve:',meyve)\n",
    "    a=a+1"
   ]
  },
  {
   "cell_type": "code",
   "execution_count": 46,
   "id": "3729134e",
   "metadata": {},
   "outputs": [
    {
     "name": "stdout",
     "output_type": "stream",
     "text": [
      "0 . indexteki meyve : elma\n",
      "1 . indexteki meyve : muz\n",
      "2 . indexteki meyve : çilek\n",
      "3 . indexteki meyve : ayva\n",
      "4 . indexteki meyve : üzüm\n"
     ]
    }
   ],
   "source": [
    "meyveler = [\"elma\" , \"muz\" , \"çilek\",\"ayva\", \"üzüm\"]\n",
    "\n",
    "\n",
    "for i in range(0,len(meyveler)):\n",
    "    print(i , \". indexteki meyve :\" , meyveler[i])"
   ]
  },
  {
   "cell_type": "code",
   "execution_count": 49,
   "id": "567d39a4",
   "metadata": {},
   "outputs": [
    {
     "data": {
      "text/plain": [
       "[6, 'Elma', 5, [3, 'Armut', 1.2], [3.2, 8, 5]]"
      ]
     },
     "execution_count": 49,
     "metadata": {},
     "output_type": "execute_result"
    }
   ],
   "source": [
    "my_list2"
   ]
  },
  {
   "cell_type": "code",
   "execution_count": 50,
   "id": "df6d86c7",
   "metadata": {},
   "outputs": [
    {
     "data": {
      "text/plain": [
       "[3, 'Armut', 1.2]"
      ]
     },
     "execution_count": 50,
     "metadata": {},
     "output_type": "execute_result"
    }
   ],
   "source": [
    "my_list2[3]"
   ]
  },
  {
   "cell_type": "code",
   "execution_count": 53,
   "id": "fff341c3",
   "metadata": {},
   "outputs": [
    {
     "data": {
      "text/plain": [
       "'Armut'"
      ]
     },
     "execution_count": 53,
     "metadata": {},
     "output_type": "execute_result"
    }
   ],
   "source": [
    "### my_list2'nin \"Armut\" elemanına ulaşmak istersem? \n",
    "my_list2[3][1]"
   ]
  },
  {
   "cell_type": "code",
   "execution_count": 54,
   "id": "33029878",
   "metadata": {},
   "outputs": [
    {
     "data": {
      "text/plain": [
       "3.2"
      ]
     },
     "execution_count": 54,
     "metadata": {},
     "output_type": "execute_result"
    }
   ],
   "source": [
    "### 3.2'ye ulaşmak istersem\n",
    "my_list2[4][0]"
   ]
  },
  {
   "cell_type": "code",
   "execution_count": 56,
   "id": "d5ce7254",
   "metadata": {},
   "outputs": [
    {
     "data": {
      "text/plain": [
       "3.2"
      ]
     },
     "execution_count": 56,
     "metadata": {},
     "output_type": "execute_result"
    }
   ],
   "source": [
    "my_list2[-1][-3]"
   ]
  },
  {
   "cell_type": "code",
   "execution_count": 57,
   "id": "09404d95",
   "metadata": {},
   "outputs": [
    {
     "data": {
      "text/plain": [
       "3.2"
      ]
     },
     "execution_count": 57,
     "metadata": {},
     "output_type": "execute_result"
    }
   ],
   "source": [
    "my_list2[-1][0]"
   ]
  },
  {
   "cell_type": "code",
   "execution_count": 66,
   "id": "edaa32d9",
   "metadata": {},
   "outputs": [],
   "source": [
    "sayilar = 3,4,9,5"
   ]
  },
  {
   "cell_type": "code",
   "execution_count": 67,
   "id": "c56239f6",
   "metadata": {},
   "outputs": [
    {
     "data": {
      "text/plain": [
       "(3, 4, 9, 5)"
      ]
     },
     "execution_count": 67,
     "metadata": {},
     "output_type": "execute_result"
    }
   ],
   "source": [
    "sayilar"
   ]
  },
  {
   "cell_type": "code",
   "execution_count": 68,
   "id": "ca9f0492",
   "metadata": {},
   "outputs": [
    {
     "data": {
      "text/plain": [
       "[3, 4, 9, 5]"
      ]
     },
     "execution_count": 68,
     "metadata": {},
     "output_type": "execute_result"
    }
   ],
   "source": [
    "sayilar_liste = list(sayilar)\n",
    "sayilar_liste"
   ]
  },
  {
   "cell_type": "code",
   "execution_count": 69,
   "id": "39a77056",
   "metadata": {},
   "outputs": [
    {
     "data": {
      "text/plain": [
       "[1, 2, 3, 4, 99, 97]"
      ]
     },
     "execution_count": 69,
     "metadata": {},
     "output_type": "execute_result"
    }
   ],
   "source": [
    "sayilar_liste[0:len(sayilar_liste)] = [1,2,3,4,99,97]\n",
    "sayilar_liste"
   ]
  },
  {
   "cell_type": "code",
   "execution_count": 60,
   "id": "0ff61d5c",
   "metadata": {},
   "outputs": [
    {
     "data": {
      "text/plain": [
       "[5, 7, 'Merhaba', 6, 18, 9]"
      ]
     },
     "execution_count": 60,
     "metadata": {},
     "output_type": "execute_result"
    }
   ],
   "source": [
    "#append, listeye yeni öğe eklemek için kullanılır.\n",
    "my_list"
   ]
  },
  {
   "cell_type": "code",
   "execution_count": 62,
   "id": "bbfc12dd",
   "metadata": {},
   "outputs": [],
   "source": [
    "my_list.append(\"Selam\")"
   ]
  },
  {
   "cell_type": "code",
   "execution_count": 63,
   "id": "79f8f48d",
   "metadata": {},
   "outputs": [
    {
     "data": {
      "text/plain": [
       "[5, 7, 'Merhaba', 6, 18, 9, 'Selam', 'Selam']"
      ]
     },
     "execution_count": 63,
     "metadata": {},
     "output_type": "execute_result"
    }
   ],
   "source": [
    "my_list"
   ]
  },
  {
   "cell_type": "code",
   "execution_count": 64,
   "id": "4fa66170",
   "metadata": {},
   "outputs": [
    {
     "data": {
      "text/plain": [
       "[5, 7, 'Merhaba', 6, 18, 9, 'Selam', 'Selam', 8.2]"
      ]
     },
     "execution_count": 64,
     "metadata": {},
     "output_type": "execute_result"
    }
   ],
   "source": [
    "my_list.append(8.2)\n",
    "my_list"
   ]
  },
  {
   "cell_type": "code",
   "execution_count": 70,
   "id": "2798c507",
   "metadata": {},
   "outputs": [],
   "source": [
    "###[\"Nasılsın\",9] listesini ekleyelim\n",
    "my_list.append([\"nasılsın\",9])"
   ]
  },
  {
   "cell_type": "code",
   "execution_count": 71,
   "id": "ffb01676",
   "metadata": {},
   "outputs": [
    {
     "data": {
      "text/plain": [
       "[5, 7, 'Merhaba', 6, 18, 9, 'Selam', 'Selam', 8.2, ['nasılsın', 9]]"
      ]
     },
     "execution_count": 71,
     "metadata": {},
     "output_type": "execute_result"
    }
   ],
   "source": [
    "my_list"
   ]
  },
  {
   "cell_type": "code",
   "execution_count": 72,
   "id": "7cffd077",
   "metadata": {},
   "outputs": [
    {
     "data": {
      "text/plain": [
       "[4, 9, 'Python', 5.7, 'Hi-Kod']"
      ]
     },
     "execution_count": 72,
     "metadata": {},
     "output_type": "execute_result"
    }
   ],
   "source": [
    "#insert, belirlenen indexe öğeyi ekler.\n",
    "new_list"
   ]
  },
  {
   "cell_type": "code",
   "execution_count": 73,
   "id": "74b607c5",
   "metadata": {},
   "outputs": [],
   "source": [
    "new_list.insert(2,\"Veri Bilimi\")"
   ]
  },
  {
   "cell_type": "code",
   "execution_count": 74,
   "id": "6fe6985e",
   "metadata": {},
   "outputs": [
    {
     "data": {
      "text/plain": [
       "[4, 9, 'Veri Bilimi', 'Python', 5.7, 'Hi-Kod']"
      ]
     },
     "execution_count": 74,
     "metadata": {},
     "output_type": "execute_result"
    }
   ],
   "source": [
    "new_list"
   ]
  },
  {
   "cell_type": "code",
   "execution_count": 75,
   "id": "b1f99036",
   "metadata": {},
   "outputs": [
    {
     "data": {
      "text/plain": [
       "[4, 9, 'Veri Bilimi', 'Python', 6, 5.7, 'Hi-Kod']"
      ]
     },
     "execution_count": 75,
     "metadata": {},
     "output_type": "execute_result"
    }
   ],
   "source": [
    "### 4.indekse 6 sayısını ekleyelim\n",
    "new_list.insert(4,6)\n",
    "new_list"
   ]
  },
  {
   "cell_type": "code",
   "execution_count": 76,
   "id": "b16c680f",
   "metadata": {},
   "outputs": [
    {
     "data": {
      "text/plain": [
       "[4, '6', 9, 'Veri Bilimi', 'Python', 6, 5.7, 'Hi-Kod']"
      ]
     },
     "execution_count": 76,
     "metadata": {},
     "output_type": "execute_result"
    }
   ],
   "source": [
    "new_list.insert(1,\"6\")\n",
    "new_list"
   ]
  },
  {
   "cell_type": "code",
   "execution_count": 91,
   "id": "cbd3d311",
   "metadata": {},
   "outputs": [
    {
     "ename": "TypeError",
     "evalue": "insert expected 2 arguments, got 4",
     "output_type": "error",
     "traceback": [
      "\u001b[1;31m---------------------------------------------------------------------------\u001b[0m",
      "\u001b[1;31mTypeError\u001b[0m                                 Traceback (most recent call last)",
      "Input \u001b[1;32mIn [91]\u001b[0m, in \u001b[0;36m<cell line: 1>\u001b[1;34m()\u001b[0m\n\u001b[1;32m----> 1\u001b[0m \u001b[43mnew_list\u001b[49m\u001b[38;5;241;43m.\u001b[39;49m\u001b[43minsert\u001b[49m\u001b[43m(\u001b[49m\u001b[38;5;241;43m4\u001b[39;49m\u001b[43m,\u001b[49m\u001b[38;5;241;43m6\u001b[39;49m\u001b[43m,\u001b[49m\u001b[38;5;241;43m7\u001b[39;49m\u001b[43m,\u001b[49m\u001b[38;5;241;43m8\u001b[39;49m\u001b[43m)\u001b[49m\n\u001b[0;32m      2\u001b[0m new_list\n",
      "\u001b[1;31mTypeError\u001b[0m: insert expected 2 arguments, got 4"
     ]
    }
   ],
   "source": [
    "new_list.insert(4,6,7,8)\n",
    "new_list"
   ]
  },
  {
   "cell_type": "code",
   "execution_count": 78,
   "id": "8baa1585",
   "metadata": {},
   "outputs": [
    {
     "data": {
      "text/plain": [
       "[4, '6', 9, 'Veri Bilimi', [6, 7, 8], 'Python', 6, 5.7, 'Hi-Kod']"
      ]
     },
     "execution_count": 78,
     "metadata": {},
     "output_type": "execute_result"
    }
   ],
   "source": [
    "new_list.insert(4,[6,7,8])\n",
    "new_list"
   ]
  },
  {
   "cell_type": "code",
   "execution_count": 79,
   "id": "673e353c",
   "metadata": {},
   "outputs": [
    {
     "data": {
      "text/plain": [
       "[5, 7, 'Merhaba', 6, 18, 9, 'Selam', 'Selam', 8.2, ['nasılsın', 9]]"
      ]
     },
     "execution_count": 79,
     "metadata": {},
     "output_type": "execute_result"
    }
   ],
   "source": [
    "my_list"
   ]
  },
  {
   "cell_type": "code",
   "execution_count": 80,
   "id": "f9ca4baf",
   "metadata": {},
   "outputs": [
    {
     "name": "stdout",
     "output_type": "stream",
     "text": [
      "[5, 7, 'Merhaba', 6, 18, 9, 'Selam', 'Selam', 8.2, ['nasılsın', 9]]\n",
      "[4, '6', 9, 'Veri Bilimi', [6, 7, 8], 'Python', 6, 5.7, 'Hi-Kod']\n",
      "[5, 7, 'Merhaba', 6, 18, 9, 'Selam', 'Selam', 8.2, ['nasılsın', 9], 4, '6', 9, 'Veri Bilimi', [6, 7, 8], 'Python', 6, 5.7, 'Hi-Kod']\n"
     ]
    }
   ],
   "source": [
    "#extend, iki listeyi birbirine ekler.\n",
    "print(my_list)\n",
    "print(new_list)\n",
    "my_list.extend(new_list)\n",
    "print(my_list)"
   ]
  },
  {
   "cell_type": "code",
   "execution_count": 81,
   "id": "92597a17",
   "metadata": {},
   "outputs": [
    {
     "data": {
      "text/plain": [
       "[4, '6', 9, 'Veri Bilimi', [6, 7, 8], 'Python', 6, 5.7, 'Hi-Kod']"
      ]
     },
     "execution_count": 81,
     "metadata": {},
     "output_type": "execute_result"
    }
   ],
   "source": [
    "new_list"
   ]
  },
  {
   "cell_type": "code",
   "execution_count": 82,
   "id": "a361de6d",
   "metadata": {},
   "outputs": [
    {
     "name": "stdout",
     "output_type": "stream",
     "text": [
      "[4, '6', 9, 'Veri Bilimi', [6, 7, 8], 6, 5.7, 'Hi-Kod']\n"
     ]
    }
   ],
   "source": [
    "#remove,belirlenen öğeyi listeden siler\n",
    "new_list.remove(\"Python\")\n",
    "print(new_list)"
   ]
  },
  {
   "cell_type": "code",
   "execution_count": 83,
   "id": "39bd9d00",
   "metadata": {},
   "outputs": [
    {
     "data": {
      "text/plain": [
       "[4, '6', 9, 'Veri Bilimi', 6, 5.7, 'Hi-Kod']"
      ]
     },
     "execution_count": 83,
     "metadata": {},
     "output_type": "execute_result"
    }
   ],
   "source": [
    "#pop, belirlenen indexdeki öğeyi siler\n",
    "new_list.pop(4)\n",
    "new_list"
   ]
  },
  {
   "cell_type": "code",
   "execution_count": 84,
   "id": "74a20974",
   "metadata": {},
   "outputs": [
    {
     "data": {
      "text/plain": [
       "[4, '6', 9, 'Veri Bilimi', 6, 5.7]"
      ]
     },
     "execution_count": 84,
     "metadata": {},
     "output_type": "execute_result"
    }
   ],
   "source": [
    "#listedeki son elemanı siler\n",
    "new_list.pop()\n",
    "new_list"
   ]
  },
  {
   "cell_type": "code",
   "execution_count": 85,
   "id": "23947572",
   "metadata": {},
   "outputs": [],
   "source": [
    "#clear, listenin tüm öğelerini siler.\n",
    "new_list.clear()"
   ]
  },
  {
   "cell_type": "code",
   "execution_count": 86,
   "id": "7774d9ec",
   "metadata": {},
   "outputs": [
    {
     "data": {
      "text/plain": [
       "[]"
      ]
     },
     "execution_count": 86,
     "metadata": {},
     "output_type": "execute_result"
    }
   ],
   "source": [
    "new_list"
   ]
  },
  {
   "cell_type": "code",
   "execution_count": 87,
   "id": "8bb68d3b",
   "metadata": {},
   "outputs": [
    {
     "name": "stdout",
     "output_type": "stream",
     "text": [
      "4\n"
     ]
    }
   ],
   "source": [
    "liste1=[\"a\",\"b\",\"c\",[\"d\",\"e\"],[\"f\",\"g\",\"t\"],[\"l\",\"m\",\"n\"]]\n",
    "for i in range(len(liste1)):\n",
    "    for j in range(len(liste1[i])):\n",
    "        if liste1[i][j] == \"t\":\n",
    "            print(str(i))"
   ]
  },
  {
   "cell_type": "code",
   "execution_count": 90,
   "id": "7b460cd0",
   "metadata": {},
   "outputs": [
    {
     "data": {
      "text/plain": [
       "'t'"
      ]
     },
     "execution_count": 90,
     "metadata": {},
     "output_type": "execute_result"
    }
   ],
   "source": [
    "liste1[4][2]"
   ]
  },
  {
   "cell_type": "code",
   "execution_count": 92,
   "id": "4f2e54c6",
   "metadata": {},
   "outputs": [
    {
     "data": {
      "text/plain": [
       "['elma', 'armut', 'muz', 'çilek', 'ayva']"
      ]
     },
     "execution_count": 92,
     "metadata": {},
     "output_type": "execute_result"
    }
   ],
   "source": [
    "meyveler"
   ]
  },
  {
   "cell_type": "code",
   "execution_count": 93,
   "id": "eb8bda68",
   "metadata": {},
   "outputs": [
    {
     "data": {
      "text/plain": [
       "['elma', 'armut', 'ayva']"
      ]
     },
     "execution_count": 93,
     "metadata": {},
     "output_type": "execute_result"
    }
   ],
   "source": [
    "###BERABER YAPALIM!!!!!\n",
    "###new_meyveler listesi oluşturalım ve bu listeye meyveler listesindeki meyve isimlerinden içinde \"a\" harfi olanları ekleyelim.\n",
    "meyveler = ['elma', 'armut', 'muz', 'çilek', 'ayva']\n",
    "\n",
    "new_meyveler = []\n",
    "for meyve in meyveler:\n",
    "    if \"a\" in meyve:\n",
    "        new_meyveler.append(meyve)\n",
    "        \n",
    "new_meyveler"
   ]
  },
  {
   "cell_type": "code",
   "execution_count": 100,
   "id": "364206e3",
   "metadata": {},
   "outputs": [],
   "source": [
    "new_meyve=[]\n",
    "liste=['elma', 'armut', 'muz', 'çilek', 'ayva']\n",
    "for meyve in meyveler:\n",
    "    if meyve==\"a\":\n",
    "        new_meyve.append(meyve)"
   ]
  },
  {
   "cell_type": "code",
   "execution_count": 101,
   "id": "b4f3b756",
   "metadata": {},
   "outputs": [
    {
     "data": {
      "text/plain": [
       "[]"
      ]
     },
     "execution_count": 101,
     "metadata": {},
     "output_type": "execute_result"
    }
   ],
   "source": [
    "new_meyve"
   ]
  },
  {
   "cell_type": "code",
   "execution_count": null,
   "id": "2e96b54a",
   "metadata": {},
   "outputs": [],
   "source": []
  },
  {
   "cell_type": "code",
   "execution_count": 102,
   "id": "a9aa51a5",
   "metadata": {},
   "outputs": [],
   "source": [
    "new_meyve=[]\n",
    "liste=['elma', 'armut', 'muz', 'çilek', 'ayva']\n",
    "for meyve in meyveler:\n",
    "      for i in meyve:\n",
    "        if i==\"a\":\n",
    "          new_meyve.append(meyve)"
   ]
  },
  {
   "cell_type": "code",
   "execution_count": 103,
   "id": "d37ae1ef",
   "metadata": {},
   "outputs": [
    {
     "data": {
      "text/plain": [
       "['elma', 'armut', 'ayva', 'ayva']"
      ]
     },
     "execution_count": 103,
     "metadata": {},
     "output_type": "execute_result"
    }
   ],
   "source": [
    "new_meyve"
   ]
  },
  {
   "cell_type": "code",
   "execution_count": 104,
   "id": "2100f1e6",
   "metadata": {},
   "outputs": [
    {
     "data": {
      "text/plain": [
       "[8, 14, 7, 66, 37, 20, 4]"
      ]
     },
     "execution_count": 104,
     "metadata": {},
     "output_type": "execute_result"
    }
   ],
   "source": [
    "# sort fonksiyonu, listedeki öğeleri sıralar\n",
    "numbers = [8,14,7,66,37,20,4]\n",
    "numbers"
   ]
  },
  {
   "cell_type": "code",
   "execution_count": 105,
   "id": "9086aa78",
   "metadata": {},
   "outputs": [
    {
     "data": {
      "text/plain": [
       "[4, 7, 8, 14, 20, 37, 66]"
      ]
     },
     "execution_count": 105,
     "metadata": {},
     "output_type": "execute_result"
    }
   ],
   "source": [
    "numbers.sort()\n",
    "numbers"
   ]
  },
  {
   "cell_type": "code",
   "execution_count": 106,
   "id": "818df1e8",
   "metadata": {},
   "outputs": [
    {
     "data": {
      "text/plain": [
       "['elma', 'muz', 'portakal', 'ayva', 'mandalina']"
      ]
     },
     "execution_count": 106,
     "metadata": {},
     "output_type": "execute_result"
    }
   ],
   "source": [
    "meyveler = [\"elma\",\"muz\",\"portakal\",\"ayva\",\"mandalina\"]\n",
    "meyveler"
   ]
  },
  {
   "cell_type": "code",
   "execution_count": 107,
   "id": "094b279f",
   "metadata": {},
   "outputs": [
    {
     "data": {
      "text/plain": [
       "['ayva', 'elma', 'mandalina', 'muz', 'portakal']"
      ]
     },
     "execution_count": 107,
     "metadata": {},
     "output_type": "execute_result"
    }
   ],
   "source": [
    "###Meyveler listesinde sort fonkiyonu kullanabilir miyim? Sonucu ne olur?\n",
    "meyveler.sort()\n",
    "meyveler"
   ]
  },
  {
   "cell_type": "code",
   "execution_count": 108,
   "id": "0ab2d91b",
   "metadata": {},
   "outputs": [
    {
     "name": "stdout",
     "output_type": "stream",
     "text": [
      "['portakal', 'muz', 'mandalina', 'elma', 'ayva']\n"
     ]
    }
   ],
   "source": [
    "meyveler = [\"elma\",\"muz\",\"portakal\",\"ayva\",\"mandalina\"]\n",
    "meyveler.sort(reverse = True)\n",
    "print(meyveler)"
   ]
  },
  {
   "cell_type": "code",
   "execution_count": 109,
   "id": "bf503e60",
   "metadata": {},
   "outputs": [
    {
     "data": {
      "text/plain": [
       "['mandalina', 'ayva', 'portakal', 'muz', 'elma']"
      ]
     },
     "execution_count": 109,
     "metadata": {},
     "output_type": "execute_result"
    }
   ],
   "source": [
    "#reverse, listeyi tersine çevirir\n",
    "meyveler = [\"elma\",\"muz\",\"portakal\",\"ayva\",\"mandalina\"]\n",
    "meyveler.reverse()\n",
    "meyveler"
   ]
  },
  {
   "cell_type": "code",
   "execution_count": 110,
   "id": "137b9bbc",
   "metadata": {},
   "outputs": [
    {
     "data": {
      "text/plain": [
       "[4, 20, 37, 66, 7, 14, 8]"
      ]
     },
     "execution_count": 110,
     "metadata": {},
     "output_type": "execute_result"
    }
   ],
   "source": [
    "numbers = [8,14,7,66,37,20,4]\n",
    "numbers.reverse()\n",
    "numbers"
   ]
  },
  {
   "cell_type": "code",
   "execution_count": 112,
   "id": "1ebc6c14",
   "metadata": {},
   "outputs": [
    {
     "data": {
      "text/plain": [
       "[4, 20, 37, 66, 7, 14, 8]"
      ]
     },
     "execution_count": 112,
     "metadata": {},
     "output_type": "execute_result"
    }
   ],
   "source": [
    "#copy fonksiyonu ile listeyi kopyalayabiliriz.\n",
    "new_numbers = numbers.copy()\n",
    "new_numbers"
   ]
  },
  {
   "cell_type": "code",
   "execution_count": 111,
   "id": "7982755c",
   "metadata": {},
   "outputs": [
    {
     "data": {
      "text/plain": [
       "[4, 20, 37, 66, 7, 14, 8]"
      ]
     },
     "execution_count": 111,
     "metadata": {},
     "output_type": "execute_result"
    }
   ],
   "source": [
    "new_numbers2 = numbers\n",
    "new_numbers2"
   ]
  },
  {
   "cell_type": "code",
   "execution_count": 113,
   "id": "d34caf11",
   "metadata": {},
   "outputs": [
    {
     "data": {
      "text/plain": [
       "[4, 20, 37, 66, 7, 14, 8, 'Hello']"
      ]
     },
     "execution_count": 113,
     "metadata": {},
     "output_type": "execute_result"
    }
   ],
   "source": [
    "numbers.append(\"Hello\")\n",
    "numbers"
   ]
  },
  {
   "cell_type": "code",
   "execution_count": 114,
   "id": "e05a0bfa",
   "metadata": {},
   "outputs": [
    {
     "data": {
      "text/plain": [
       "[4, 20, 37, 66, 7, 14, 8]"
      ]
     },
     "execution_count": 114,
     "metadata": {},
     "output_type": "execute_result"
    }
   ],
   "source": [
    "new_numbers"
   ]
  },
  {
   "cell_type": "code",
   "execution_count": 115,
   "id": "ef2d508b",
   "metadata": {},
   "outputs": [
    {
     "data": {
      "text/plain": [
       "[4, 20, 37, 66, 7, 14, 8, 'Hello']"
      ]
     },
     "execution_count": 115,
     "metadata": {},
     "output_type": "execute_result"
    }
   ],
   "source": [
    "new_numbers2"
   ]
  },
  {
   "cell_type": "markdown",
   "id": "92ce4da5",
   "metadata": {},
   "source": [
    "# Tuple\n",
    "Bir Tuple (Demet) tanımlamak için parantez işareti kullanılır."
   ]
  },
  {
   "cell_type": "code",
   "execution_count": 116,
   "id": "12208af9",
   "metadata": {},
   "outputs": [
    {
     "data": {
      "text/plain": [
       "('Merhaba', 5, 6.7)"
      ]
     },
     "execution_count": 116,
     "metadata": {},
     "output_type": "execute_result"
    }
   ],
   "source": [
    "t=(\"Merhaba\",5,6.7)\n",
    "t"
   ]
  },
  {
   "cell_type": "code",
   "execution_count": 117,
   "id": "ca2d665d",
   "metadata": {},
   "outputs": [
    {
     "data": {
      "text/plain": [
       "tuple"
      ]
     },
     "execution_count": 117,
     "metadata": {},
     "output_type": "execute_result"
    }
   ],
   "source": [
    "type(t)"
   ]
  },
  {
   "cell_type": "code",
   "execution_count": 118,
   "id": "443161d3",
   "metadata": {},
   "outputs": [
    {
     "data": {
      "text/plain": [
       "('Veri', 'Bilimi', 8)"
      ]
     },
     "execution_count": 118,
     "metadata": {},
     "output_type": "execute_result"
    }
   ],
   "source": [
    "t2 = \"Veri\",\"Bilimi\",8\n",
    "t2"
   ]
  },
  {
   "cell_type": "code",
   "execution_count": 119,
   "id": "606a38d4",
   "metadata": {},
   "outputs": [
    {
     "data": {
      "text/plain": [
       "tuple"
      ]
     },
     "execution_count": 119,
     "metadata": {},
     "output_type": "execute_result"
    }
   ],
   "source": [
    "type(t2)"
   ]
  },
  {
   "cell_type": "code",
   "execution_count": 120,
   "id": "6c0c65de",
   "metadata": {},
   "outputs": [
    {
     "name": "stdout",
     "output_type": "stream",
     "text": [
      "('armut', 'muz', 'ayva', 'portakal', 'armut', 'mandalina')\n"
     ]
    }
   ],
   "source": [
    "meyveler = (\"armut\",\"muz\",\"ayva\",\"portakal\",\"armut\",\"mandalina\")\n",
    "print(meyveler)"
   ]
  },
  {
   "cell_type": "code",
   "execution_count": 121,
   "id": "dbb5a826",
   "metadata": {},
   "outputs": [
    {
     "data": {
      "text/plain": [
       "'muz'"
      ]
     },
     "execution_count": 121,
     "metadata": {},
     "output_type": "execute_result"
    }
   ],
   "source": [
    "meyveler[1]"
   ]
  },
  {
   "cell_type": "code",
   "execution_count": 122,
   "id": "e106992f",
   "metadata": {},
   "outputs": [
    {
     "data": {
      "text/plain": [
       "'mandalina'"
      ]
     },
     "execution_count": 122,
     "metadata": {},
     "output_type": "execute_result"
    }
   ],
   "source": [
    "meyveler[-1]"
   ]
  },
  {
   "cell_type": "code",
   "execution_count": 123,
   "id": "a52ad8df",
   "metadata": {},
   "outputs": [
    {
     "data": {
      "text/plain": [
       "('armut', 'muz', 'ayva')"
      ]
     },
     "execution_count": 123,
     "metadata": {},
     "output_type": "execute_result"
    }
   ],
   "source": [
    "meyveler[:3]"
   ]
  },
  {
   "cell_type": "code",
   "execution_count": 124,
   "id": "2cadb802",
   "metadata": {},
   "outputs": [
    {
     "data": {
      "text/plain": [
       "('portakal', 'armut', 'mandalina')"
      ]
     },
     "execution_count": 124,
     "metadata": {},
     "output_type": "execute_result"
    }
   ],
   "source": [
    "meyveler[3:]"
   ]
  },
  {
   "cell_type": "code",
   "execution_count": 125,
   "id": "6c6e83e4",
   "metadata": {},
   "outputs": [
    {
     "data": {
      "text/plain": [
       "('ayva', 'portakal', 'armut')"
      ]
     },
     "execution_count": 125,
     "metadata": {},
     "output_type": "execute_result"
    }
   ],
   "source": [
    "meyveler[2:5]"
   ]
  },
  {
   "cell_type": "code",
   "execution_count": 126,
   "id": "8bdbdf37",
   "metadata": {},
   "outputs": [
    {
     "data": {
      "text/plain": [
       "('ayva', 'portakal', 'armut')"
      ]
     },
     "execution_count": 126,
     "metadata": {},
     "output_type": "execute_result"
    }
   ],
   "source": [
    "meyveler[-4:-1]"
   ]
  },
  {
   "cell_type": "code",
   "execution_count": 127,
   "id": "1c5f745a",
   "metadata": {},
   "outputs": [
    {
     "data": {
      "text/plain": [
       "('armut', 'muz', 'ayva', 'portakal', 'armut', 'mandalina')"
      ]
     },
     "execution_count": 127,
     "metadata": {},
     "output_type": "execute_result"
    }
   ],
   "source": [
    "meyveler"
   ]
  },
  {
   "cell_type": "code",
   "execution_count": 128,
   "id": "c35f59e3",
   "metadata": {},
   "outputs": [
    {
     "ename": "TypeError",
     "evalue": "'tuple' object does not support item assignment",
     "output_type": "error",
     "traceback": [
      "\u001b[1;31m---------------------------------------------------------------------------\u001b[0m",
      "\u001b[1;31mTypeError\u001b[0m                                 Traceback (most recent call last)",
      "Input \u001b[1;32mIn [128]\u001b[0m, in \u001b[0;36m<cell line: 2>\u001b[1;34m()\u001b[0m\n\u001b[0;32m      1\u001b[0m \u001b[38;5;66;03m#Tuple'lar bir kez oluşturulduktan sonra değerleri değiştirilemez,silinemez ya da yeni değer eklenemez.\u001b[39;00m\n\u001b[1;32m----> 2\u001b[0m meyveler[\u001b[38;5;241m1\u001b[39m] \u001b[38;5;241m=\u001b[39m \u001b[38;5;124m\"\u001b[39m\u001b[38;5;124melma\u001b[39m\u001b[38;5;124m\"\u001b[39m\n\u001b[0;32m      3\u001b[0m meyveler\n",
      "\u001b[1;31mTypeError\u001b[0m: 'tuple' object does not support item assignment"
     ]
    }
   ],
   "source": [
    "#Tuple'lar bir kez oluşturulduktan sonra değerleri değiştirilemez,silinemez ya da yeni değer eklenemez.\n",
    "meyveler[1] = \"elma\"\n",
    "meyveler"
   ]
  },
  {
   "cell_type": "code",
   "execution_count": 129,
   "id": "1326e15b",
   "metadata": {},
   "outputs": [
    {
     "data": {
      "text/plain": [
       "('armut', 'muz', 'ayva', 'portakal', 'armut', 'mandalina', 'elma')"
      ]
     },
     "execution_count": 129,
     "metadata": {},
     "output_type": "execute_result"
    }
   ],
   "source": [
    "#Tuple'lara yeni öğe eklemek için eklenecek öğede tuple olabilir.\n",
    "meyveler = (\"armut\",\"muz\",\"ayva\",\"portakal\",\"armut\",\"mandalina\")\n",
    "meyve = (\"elma\",) #tek öğeli tuple oluştururken öğeden sonra virgül koyulmalıdır. Diğer türlü o öğe tuple olmaz\n",
    "meyveler += meyve\n",
    "meyveler"
   ]
  },
  {
   "cell_type": "code",
   "execution_count": 130,
   "id": "1cf586cc",
   "metadata": {},
   "outputs": [
    {
     "name": "stdout",
     "output_type": "stream",
     "text": [
      "<class 'str'>\n",
      "<class 'tuple'>\n"
     ]
    }
   ],
   "source": [
    "meyve1 = (\"elma\")\n",
    "meyve2 = (\"elma\",)\n",
    "print(type(meyve1))\n",
    "print(type(meyve2))"
   ]
  },
  {
   "cell_type": "code",
   "execution_count": 131,
   "id": "f3cb15c0",
   "metadata": {},
   "outputs": [],
   "source": [
    "### Tüm meyveleri döngü ile yazdıralım.\n",
    "meyveler = (\"armut\",\"muz\",\"ayva\",\"portakal\",\"armut\",\"mandalina\")"
   ]
  },
  {
   "cell_type": "code",
   "execution_count": 132,
   "id": "ca230baf",
   "metadata": {},
   "outputs": [
    {
     "name": "stdout",
     "output_type": "stream",
     "text": [
      "armut\n",
      "muz\n",
      "ayva\n",
      "portakal\n",
      "armut\n",
      "mandalina\n"
     ]
    }
   ],
   "source": [
    "###BİRLİKTE YAPALIM!!!\n",
    "###indexleri kullanarak for döngüsüyle meyveleri yazdıralım.\n",
    "meyveler = (\"armut\",\"muz\",\"ayva\",\"portakal\",\"armut\",\"mandalina\")\n",
    "\n",
    "for i in range(len(meyveler)):\n",
    "    print(meyveler[i])"
   ]
  },
  {
   "cell_type": "code",
   "execution_count": 133,
   "id": "c38e9ca5",
   "metadata": {},
   "outputs": [
    {
     "name": "stdout",
     "output_type": "stream",
     "text": [
      "armut\n",
      "muz\n",
      "ayva\n",
      "portakal\n",
      "armut\n",
      "mandalina\n"
     ]
    }
   ],
   "source": [
    "meyveler = (\"armut\",\"muz\",\"ayva\",\"portakal\",\"armut\",\"mandalina\")\n",
    "i = 0\n",
    "\n",
    "while i < len(meyveler):\n",
    "    print(meyveler[i])\n",
    "    i = i+1"
   ]
  },
  {
   "cell_type": "markdown",
   "id": "ac180f02",
   "metadata": {},
   "source": [
    "# Sets\n",
    "\n",
    "Python'daki veri tiplerinden biri de Sets(Kümeler)'dir. Matematikte bulunan kümelerdeki özellikler; kesişim,birleşim, fark gibi Python'daki kümelerde de bulunur."
   ]
  },
  {
   "cell_type": "code",
   "execution_count": 134,
   "id": "3b61468c",
   "metadata": {},
   "outputs": [],
   "source": [
    "kume = set()"
   ]
  },
  {
   "cell_type": "code",
   "execution_count": 135,
   "id": "e61ff9b2",
   "metadata": {},
   "outputs": [
    {
     "data": {
      "text/plain": [
       "set"
      ]
     },
     "execution_count": 135,
     "metadata": {},
     "output_type": "execute_result"
    }
   ],
   "source": [
    "type(kume)"
   ]
  },
  {
   "cell_type": "code",
   "execution_count": 136,
   "id": "cf3efbcf",
   "metadata": {},
   "outputs": [
    {
     "data": {
      "text/plain": [
       "{'Atolye', 'Python', 'Veri Bilimi'}"
      ]
     },
     "execution_count": 136,
     "metadata": {},
     "output_type": "execute_result"
    }
   ],
   "source": [
    "#kümeler sıralanamazlar.\n",
    "kume = {\"Python\", \"Veri Bilimi\", \"Atolye\"}\n",
    "kume"
   ]
  },
  {
   "cell_type": "code",
   "execution_count": 137,
   "id": "55de839a",
   "metadata": {},
   "outputs": [
    {
     "data": {
      "text/plain": [
       "{9, 'ayva', 'elma'}"
      ]
     },
     "execution_count": 137,
     "metadata": {},
     "output_type": "execute_result"
    }
   ],
   "source": [
    "meyveler = set([\"elma\",\"ayva\",9])\n",
    "meyveler"
   ]
  },
  {
   "cell_type": "code",
   "execution_count": 138,
   "id": "9186928d",
   "metadata": {},
   "outputs": [
    {
     "data": {
      "text/plain": [
       "{' ', 'A', 'B', 'V', 'e', 'i', 'l', 'm', 'r', 's', 't', 'y', 'ö'}"
      ]
     },
     "execution_count": 138,
     "metadata": {},
     "output_type": "execute_result"
    }
   ],
   "source": [
    "atolye = \"Veri Bilimi Atölyesi\"\n",
    "set(atolye)"
   ]
  },
  {
   "cell_type": "code",
   "execution_count": 139,
   "id": "df570d96",
   "metadata": {},
   "outputs": [
    {
     "data": {
      "text/plain": [
       "{6, 8.5, 'Merhaba', 'Python', True}"
      ]
     },
     "execution_count": 139,
     "metadata": {},
     "output_type": "execute_result"
    }
   ],
   "source": [
    "# kümeler öğeleri birden fazla kez tekrar etmez.\n",
    "kume2 = {\"Python\",\"Merhaba\",6,8.5,\"Merhaba\",True}\n",
    "kume2"
   ]
  },
  {
   "cell_type": "code",
   "execution_count": 140,
   "id": "e9bd8658",
   "metadata": {},
   "outputs": [
    {
     "ename": "TypeError",
     "evalue": "'set' object is not subscriptable",
     "output_type": "error",
     "traceback": [
      "\u001b[1;31m---------------------------------------------------------------------------\u001b[0m",
      "\u001b[1;31mTypeError\u001b[0m                                 Traceback (most recent call last)",
      "Input \u001b[1;32mIn [140]\u001b[0m, in \u001b[0;36m<cell line: 2>\u001b[1;34m()\u001b[0m\n\u001b[0;32m      1\u001b[0m \u001b[38;5;66;03m#kümeler indexlenemez\u001b[39;00m\n\u001b[1;32m----> 2\u001b[0m \u001b[43mkume2\u001b[49m\u001b[43m[\u001b[49m\u001b[38;5;241;43m1\u001b[39;49m\u001b[43m]\u001b[49m\n",
      "\u001b[1;31mTypeError\u001b[0m: 'set' object is not subscriptable"
     ]
    }
   ],
   "source": [
    "#kümeler indexlenemez\n",
    "kume2[1]"
   ]
  },
  {
   "cell_type": "code",
   "execution_count": 141,
   "id": "e0b30a58",
   "metadata": {},
   "outputs": [
    {
     "data": {
      "text/plain": [
       "{9, 'Merhaba', 'Python', True}"
      ]
     },
     "execution_count": 141,
     "metadata": {},
     "output_type": "execute_result"
    }
   ],
   "source": [
    "#kümeler oluşturulduktan sonra öğeleri değiştirilemez ancak yeni öğeler eklenebilir.\n",
    "kume = {\"Merhaba\", 9, True}\n",
    "kume.add(\"Python\")\n",
    "kume"
   ]
  },
  {
   "cell_type": "code",
   "execution_count": 142,
   "id": "b9c6f4e2",
   "metadata": {},
   "outputs": [
    {
     "data": {
      "text/plain": [
       "{9, 'Merhaba', 'Python', True}"
      ]
     },
     "execution_count": 142,
     "metadata": {},
     "output_type": "execute_result"
    }
   ],
   "source": [
    "kume.add(\"Merhaba\")\n",
    "kume"
   ]
  },
  {
   "cell_type": "code",
   "execution_count": 143,
   "id": "304a93b1",
   "metadata": {},
   "outputs": [
    {
     "data": {
      "text/plain": [
       "{True, 4.7}"
      ]
     },
     "execution_count": 143,
     "metadata": {},
     "output_type": "execute_result"
    }
   ],
   "source": [
    "#difference metodu iki kümenin farkını almak için kullanılır.\n",
    "k1={3,8,6.7,\"Merhaba\"}\n",
    "k2={\"Merhaba\",8,True,4.7}\n",
    "k2.difference(k1)"
   ]
  },
  {
   "cell_type": "code",
   "execution_count": 144,
   "id": "f6fed25d",
   "metadata": {},
   "outputs": [
    {
     "data": {
      "text/plain": [
       "{3, 6.7}"
      ]
     },
     "execution_count": 144,
     "metadata": {},
     "output_type": "execute_result"
    }
   ],
   "source": [
    "k1.difference(k2)"
   ]
  },
  {
   "cell_type": "code",
   "execution_count": 145,
   "id": "d48a6ebb",
   "metadata": {},
   "outputs": [
    {
     "data": {
      "text/plain": [
       "{3, 6.7}"
      ]
     },
     "execution_count": 145,
     "metadata": {},
     "output_type": "execute_result"
    }
   ],
   "source": [
    "# - işareti kullanılarakta fark alınabilir.\n",
    "k1-k2"
   ]
  },
  {
   "cell_type": "code",
   "execution_count": 146,
   "id": "3413d573",
   "metadata": {},
   "outputs": [
    {
     "data": {
      "text/plain": [
       "{6, 8.5, 'Merhaba', 'Python', True}"
      ]
     },
     "execution_count": 146,
     "metadata": {},
     "output_type": "execute_result"
    }
   ],
   "source": [
    "#discard metodu, kümeden öğe silmemizi sağlar.\n",
    "kume2"
   ]
  },
  {
   "cell_type": "code",
   "execution_count": 147,
   "id": "53e0ffc9",
   "metadata": {},
   "outputs": [],
   "source": [
    "kume2.discard(\"Python\")"
   ]
  },
  {
   "cell_type": "code",
   "execution_count": 148,
   "id": "0ff88024",
   "metadata": {},
   "outputs": [
    {
     "data": {
      "text/plain": [
       "{6, 8.5, 'Merhaba', True}"
      ]
     },
     "execution_count": 148,
     "metadata": {},
     "output_type": "execute_result"
    }
   ],
   "source": [
    "kume2"
   ]
  },
  {
   "cell_type": "code",
   "execution_count": 149,
   "id": "151869e3",
   "metadata": {},
   "outputs": [
    {
     "data": {
      "text/plain": [
       "{6, 8.5, 'Merhaba'}"
      ]
     },
     "execution_count": 149,
     "metadata": {},
     "output_type": "execute_result"
    }
   ],
   "source": [
    "#remove metodu, kümeden öğe silmeyi sağlar. Discard'dan farkı, kümede olmayan bir öğeyi silmek istendiğinde discord metodu hata vermezken remove metodu hata verir.\n",
    "kume2.remove(True)\n",
    "kume2"
   ]
  },
  {
   "cell_type": "code",
   "execution_count": 150,
   "id": "e84b35f9",
   "metadata": {},
   "outputs": [
    {
     "name": "stdout",
     "output_type": "stream",
     "text": [
      "{8, 3, 'Merhaba', 6.7}\n",
      "{8, True, 4.7, 'Merhaba'}\n"
     ]
    }
   ],
   "source": [
    "#intersection,iki kümedeki kesişimi ifade eder.(& işaretide kullanılabilir.)\n",
    "print(k1)\n",
    "print(k2)"
   ]
  },
  {
   "cell_type": "code",
   "execution_count": 151,
   "id": "5a982b52",
   "metadata": {},
   "outputs": [
    {
     "data": {
      "text/plain": [
       "{8, 'Merhaba'}"
      ]
     },
     "execution_count": 151,
     "metadata": {},
     "output_type": "execute_result"
    }
   ],
   "source": [
    "k1.intersection(k2)"
   ]
  },
  {
   "cell_type": "code",
   "execution_count": 152,
   "id": "d98bca19",
   "metadata": {},
   "outputs": [
    {
     "data": {
      "text/plain": [
       "{3, 4.7, 6.7, 8, 'Merhaba', True}"
      ]
     },
     "execution_count": 152,
     "metadata": {},
     "output_type": "execute_result"
    }
   ],
   "source": [
    "#union, iki kümenin birleşimini alır.(| işaretide kullanılabilir.)\n",
    "k1.union(k2)"
   ]
  },
  {
   "cell_type": "markdown",
   "id": "ae2061cb",
   "metadata": {},
   "source": [
    "# Dictionary\n",
    "Sözlükler; anahtar ve değer çiftlerinin birbirleriyle eşleştirildiği bir veri tipidir.\n",
    "\n",
    "{key(anahtar) : value(değer)}"
   ]
  },
  {
   "cell_type": "code",
   "execution_count": 153,
   "id": "31a64fe5",
   "metadata": {},
   "outputs": [
    {
     "data": {
      "text/plain": [
       "{'book': 'kitap'}"
      ]
     },
     "execution_count": 153,
     "metadata": {},
     "output_type": "execute_result"
    }
   ],
   "source": [
    "sozluk = {\"book\":\"kitap\"}\n",
    "sozluk"
   ]
  },
  {
   "cell_type": "code",
   "execution_count": 154,
   "id": "0311f578",
   "metadata": {},
   "outputs": [
    {
     "data": {
      "text/plain": [
       "1"
      ]
     },
     "execution_count": 154,
     "metadata": {},
     "output_type": "execute_result"
    }
   ],
   "source": [
    "### sözlüğün uzunluğuna bakalım.\n",
    "len(sozluk)"
   ]
  },
  {
   "cell_type": "code",
   "execution_count": 155,
   "id": "df36925e",
   "metadata": {},
   "outputs": [
    {
     "data": {
      "text/plain": [
       "{'book': 'kitap', 'pencil': 'kalem', 'table': 'masa'}"
      ]
     },
     "execution_count": 155,
     "metadata": {},
     "output_type": "execute_result"
    }
   ],
   "source": [
    "sozluk = {\"book\":\"kitap\",\"pencil\":\"kalem\",\"table\":\"masa\"}\n",
    "sozluk"
   ]
  },
  {
   "cell_type": "code",
   "execution_count": 156,
   "id": "f0fadab4",
   "metadata": {},
   "outputs": [
    {
     "data": {
      "text/plain": [
       "3"
      ]
     },
     "execution_count": 156,
     "metadata": {},
     "output_type": "execute_result"
    }
   ],
   "source": [
    "len(sozluk)"
   ]
  },
  {
   "cell_type": "code",
   "execution_count": 157,
   "id": "1ae7e1e0",
   "metadata": {},
   "outputs": [
    {
     "data": {
      "text/plain": [
       "{'book': 'kitap', 'pencil': 'kalem', 'table': 'masa'}"
      ]
     },
     "execution_count": 157,
     "metadata": {},
     "output_type": "execute_result"
    }
   ],
   "source": [
    "sozluk = {\"book\":\"kitap\",\n",
    "          \"pencil\":\"kalem\",\n",
    "          \"table\":\"masa\"}\n",
    "sozluk"
   ]
  },
  {
   "cell_type": "code",
   "execution_count": 158,
   "id": "6ef6c378",
   "metadata": {},
   "outputs": [
    {
     "data": {
      "text/plain": [
       "'kalem'"
      ]
     },
     "execution_count": 158,
     "metadata": {},
     "output_type": "execute_result"
    }
   ],
   "source": [
    "#sözlükteki öğelere erişmek\n",
    "sozluk[\"pencil\"]"
   ]
  },
  {
   "cell_type": "code",
   "execution_count": 159,
   "id": "e3e99e6a",
   "metadata": {},
   "outputs": [
    {
     "name": "stdout",
     "output_type": "stream",
     "text": [
      "kitap\n",
      "kalem\n",
      "masa\n"
     ]
    }
   ],
   "source": [
    "print(sozluk[\"book\"])\n",
    "print(sozluk[\"pencil\"])\n",
    "print(sozluk[\"table\"])"
   ]
  },
  {
   "cell_type": "code",
   "execution_count": 160,
   "id": "0195b00e",
   "metadata": {},
   "outputs": [
    {
     "name": "stdout",
     "output_type": "stream",
     "text": [
      "book\n",
      "pencil\n",
      "table\n"
     ]
    }
   ],
   "source": [
    "for kelime in sozluk:\n",
    "    print(kelime)"
   ]
  },
  {
   "cell_type": "code",
   "execution_count": 161,
   "id": "8bcca287",
   "metadata": {},
   "outputs": [
    {
     "name": "stdout",
     "output_type": "stream",
     "text": [
      "kitap\n",
      "kalem\n",
      "masa\n"
     ]
    }
   ],
   "source": [
    "###aynı değerleri for döngüsü ile yazdıralım\n",
    "for kelime in sozluk:\n",
    "    print(sozluk[kelime])"
   ]
  },
  {
   "cell_type": "code",
   "execution_count": 164,
   "id": "7e01e6f6",
   "metadata": {},
   "outputs": [
    {
     "name": "stdout",
     "output_type": "stream",
     "text": [
      "Müşteri numarasını öğrenmek istediğiniz kişinin ismini giriniz: ayşe yılmaz\n",
      "ayşe yılmaz isimli kişinin müşteri numarası: 479621\n"
     ]
    }
   ],
   "source": [
    "###BERABER YAPALIM!!\n",
    "###Kullanıcıdan aldığımız isim bilgisine göre müşteri numarasını yazdıralım.\n",
    "musteri_bilgileri = {\"ayşe yılmaz\":\"479621\",\n",
    "                    \"mine sönmez\":\"851743\",\n",
    "                    \"emir alpay\":\"743266\",\n",
    "                    \"sevim kara\":\"154798\"}\n",
    "\n",
    "isim = input(\"Müşteri numarasını öğrenmek istediğiniz kişinin ismini giriniz: \")\n",
    "\n",
    "print(\"{} isimli kişinin müşteri numarası: {}\".format(isim,musteri_bilgileri[isim]))\n",
    "#print(isim + \" isimli kişinin müşteri numarası :\" + musteri_bilgileri[isim])"
   ]
  },
  {
   "cell_type": "code",
   "execution_count": 165,
   "id": "847270ed",
   "metadata": {},
   "outputs": [
    {
     "name": "stdout",
     "output_type": "stream",
     "text": [
      "Müşteri numarasını öğrenmek istediğiniz kişinin ismini giriniz: ayle\n",
      "Girilen isimde bir müşteri bulunmamamktadır!\n"
     ]
    }
   ],
   "source": [
    "### BİRLİKTE YAPALIM\n",
    "### bu duruma bir koşul ekleyelim. Girilen isim sözlükte yoksa bizi uyarsın!!### BİRLİKTE YAPALIM\n",
    "### bu duruma bir koşul ekleyelim. Girilen isim sözlükte yoksa bizi uyarsın!!!\n",
    "musteri_bilgileri = {\"ayşe yılmaz\":\"479621\",\n",
    "                    \"mine sönmez\":\"851743\",\n",
    "                    \"emir alpay\":\"743266\",\n",
    "                    \"sevim kara\":\"154798\"}\n",
    "\n",
    "isim = input(\"Müşteri numarasını öğrenmek istediğiniz kişinin ismini giriniz: \")\n",
    "\n",
    "if isim in musteri_bilgileri:\n",
    "    print(\"{} isimli kişinin müşteri numarası: {}\".format(isim,musteri_bilgileri[isim]))\n",
    "else:\n",
    "    print(\"Girilen isimde bir müşteri bulunmamamktadır!\")"
   ]
  },
  {
   "cell_type": "code",
   "execution_count": 166,
   "id": "8dfa8ed5",
   "metadata": {},
   "outputs": [
    {
     "data": {
      "text/plain": [
       "34"
      ]
     },
     "execution_count": 166,
     "metadata": {},
     "output_type": "execute_result"
    }
   ],
   "source": [
    "plaka = {\"İstanbul\":34,\n",
    "        \"Isparta\":32,\n",
    "        \"İzmir\":35}\n",
    "\n",
    "plaka[\"İstanbul\"]"
   ]
  },
  {
   "cell_type": "code",
   "execution_count": 167,
   "id": "fccaef85",
   "metadata": {},
   "outputs": [
    {
     "data": {
      "text/plain": [
       "['479621', 'İstanbul', 'Öğretmen']"
      ]
     },
     "execution_count": 167,
     "metadata": {},
     "output_type": "execute_result"
    }
   ],
   "source": [
    "musteri_bilgileri = {\"ayşe yılmaz\":[\"479621\",\"İstanbul\",\"Öğretmen\"],\n",
    "                    \"mine sönmez\":[\"851743\",\"Ankara\",\"Hemşire\"],\n",
    "                    \"emir alpay\":[\"743266\",\"Bursa\",\"Mühendis\"],\n",
    "                    \"sevim kara\":[\"154798\",\"İzmir\",\"Öğrenci\"]}\n",
    "\n",
    "musteri_bilgileri[\"ayşe yılmaz\"]"
   ]
  },
  {
   "cell_type": "code",
   "execution_count": 168,
   "id": "e880324d",
   "metadata": {},
   "outputs": [
    {
     "name": "stdout",
     "output_type": "stream",
     "text": [
      "Müşterinin ismini giriniz: emir alpay\n",
      "Müşteri numarası: 743266\n",
      "Yaşadığı şehir: Bursa\n",
      "Yaşı: 27\n",
      "Meslek: Mühendis\n"
     ]
    }
   ],
   "source": [
    "###Müşterinin ismini alalım ve bilgilerini yazdıralım.\n",
    "musteri_bilgileri = {\"ayşe yılmaz\":[\"479621\",\"İstanbul\",36,\"Öğretmen\"],\n",
    "                    \"mine sönmez\":[\"851743\",\"Ankara\",24,\"Hemşire\"],\n",
    "                    \"emir alpay\":[\"743266\",\"Bursa\",27,\"Mühendis\"],\n",
    "                    \"sevim kara\":[\"154798\",\"İzmir\",21,\"Öğrenci\"]}\n",
    "\n",
    "isim = input(\"Müşterinin ismini giriniz: \")\n",
    "\n",
    "print(\"Müşteri numarası: \" + musteri_bilgileri[isim][0])\n",
    "print(\"Yaşadığı şehir: \" + musteri_bilgileri[isim][1])\n",
    "print(\"Yaşı: \" + str(musteri_bilgileri[isim][2]))\n",
    "print(\"Meslek: \" + musteri_bilgileri[isim][3])"
   ]
  },
  {
   "cell_type": "code",
   "execution_count": 169,
   "id": "1d0ccf8e",
   "metadata": {},
   "outputs": [
    {
     "name": "stdout",
     "output_type": "stream",
     "text": [
      "Müşterinin ismini giriniz: sevim kara\n",
      "{'Müşteri numarası': '154798', 'Şehir': 'İzmir', 'Yaş': 21, 'Meslek': 'Öğrenci'}\n"
     ]
    }
   ],
   "source": [
    "musteri_bilgileri = {\"ayşe yılmaz\":{\"Müşteri numarası\":\"479621\",\n",
    "                                    \"Şehir\":\"İstanbul\",\n",
    "                                    \"Yaş\":36,\n",
    "                                    \"Meslek\":\"Öğretmen\"},\n",
    "                     \n",
    "                    \"mine sönmez\":{\"Müşteri numarası\":\"851743\",\n",
    "                                   \"Şehir\":\"Ankara\",\n",
    "                                   \"Yaş\":24,\n",
    "                                   \"Meslek\":\"Hemşire\"},\n",
    "                     \n",
    "                    \"emir alpay\":{\"Müşteri numarası\":\"743266\",\n",
    "                                  \"Şehir\":\"Bursa\",\n",
    "                                  \"Yaş\":27,\n",
    "                                  \"Meslek\":\"Mühendis\"},\n",
    "                     \n",
    "                    \"sevim kara\":{\"Müşteri numarası\":\"154798\",\n",
    "                                  \"Şehir\":\"İzmir\",\n",
    "                                  \"Yaş\":21,\n",
    "                                  \"Meslek\":\"Öğrenci\"}}\n",
    "\n",
    "isim = input(\"Müşterinin ismini giriniz: \")\n",
    "\n",
    "print(musteri_bilgileri[isim])"
   ]
  },
  {
   "cell_type": "code",
   "execution_count": 170,
   "id": "aadc3e95",
   "metadata": {},
   "outputs": [
    {
     "data": {
      "text/plain": [
       "24"
      ]
     },
     "execution_count": 170,
     "metadata": {},
     "output_type": "execute_result"
    }
   ],
   "source": [
    "musteri_bilgileri[\"mine sönmez\"][\"Yaş\"]"
   ]
  },
  {
   "cell_type": "code",
   "execution_count": 172,
   "id": "3bf377be",
   "metadata": {},
   "outputs": [
    {
     "name": "stdout",
     "output_type": "stream",
     "text": [
      "Müşterinin ismini giriniz: Mine sönmez\n",
      "Kişi hakkında öğrenmek istediğiniz bilgi: meslek\n"
     ]
    },
    {
     "ename": "KeyError",
     "evalue": "'Mine sönmez'",
     "output_type": "error",
     "traceback": [
      "\u001b[1;31m---------------------------------------------------------------------------\u001b[0m",
      "\u001b[1;31mKeyError\u001b[0m                                  Traceback (most recent call last)",
      "Input \u001b[1;32mIn [172]\u001b[0m, in \u001b[0;36m<cell line: 26>\u001b[1;34m()\u001b[0m\n\u001b[0;32m     22\u001b[0m isim \u001b[38;5;241m=\u001b[39m \u001b[38;5;28minput\u001b[39m(\u001b[38;5;124m\"\u001b[39m\u001b[38;5;124mMüşterinin ismini giriniz: \u001b[39m\u001b[38;5;124m\"\u001b[39m)\n\u001b[0;32m     24\u001b[0m bilgi \u001b[38;5;241m=\u001b[39m \u001b[38;5;28minput\u001b[39m(\u001b[38;5;124m\"\u001b[39m\u001b[38;5;124mKişi hakkında öğrenmek istediğiniz bilgi: \u001b[39m\u001b[38;5;124m\"\u001b[39m)\n\u001b[1;32m---> 26\u001b[0m \u001b[38;5;28mprint\u001b[39m(\u001b[43mmusteri_bilgileri\u001b[49m\u001b[43m[\u001b[49m\u001b[43misim\u001b[49m\u001b[43m]\u001b[49m[bilgi])\n",
      "\u001b[1;31mKeyError\u001b[0m: 'Mine sönmez'"
     ]
    }
   ],
   "source": [
    "###İsim ve müsteri hakkında istenilen bilgiyi kullanıcıdan alalım.\n",
    "musteri_bilgileri = {\"ayşe yılmaz\":{\"Müşteri numarası\":\"479621\",\n",
    "                                    \"Şehir\":\"İstanbul\",\n",
    "                                    \"Yaş\":36,\n",
    "                                    \"Meslek\":\"Öğretmen\"},\n",
    "                     \n",
    "                    \"mine sönmez\":{\"Müşteri numarası\":\"851743\",\n",
    "                                   \"Şehir\":\"Ankara\",\n",
    "                                   \"Yaş\":24,\n",
    "                                   \"Meslek\":\"Hemşire\"},\n",
    "                     \n",
    "                    \"emir alpay\":{\"Müşteri numarası\":\"743266\",\n",
    "                                  \"Şehir\":\"Bursa\",\n",
    "                                  \"Yaş\":27,\n",
    "                                  \"Meslek\":\"Mühendis\"},\n",
    "                     \n",
    "                    \"sevim kara\":{\"Müşteri numarası\":\"154798\",\n",
    "                                  \"Şehir\":\"İzmir\",\n",
    "                                  \"Yaş\":21,\n",
    "                                  \"Meslek\":\"Öğrenci\"}}\n",
    "\n",
    "isim = input(\"Müşterinin ismini giriniz: \")\n",
    "\n",
    "bilgi = input(\"Kişi hakkında öğrenmek istediğiniz bilgi: \")\n",
    "\n",
    "print(musteri_bilgileri[isim][bilgi])"
   ]
  },
  {
   "cell_type": "markdown",
   "id": "ccfb0794",
   "metadata": {},
   "source": [
    "Sözlüklerde oluşturulan öğeler kod satırı çalıştırıldığında aynı sırada bize dönmeyebilir. Bu nedenle listelerde yapılan indexleme gibi özellikler sözlüklerde kullanılamaz."
   ]
  },
  {
   "cell_type": "code",
   "execution_count": 173,
   "id": "e7ac9b52",
   "metadata": {},
   "outputs": [
    {
     "ename": "KeyError",
     "evalue": "0",
     "output_type": "error",
     "traceback": [
      "\u001b[1;31m---------------------------------------------------------------------------\u001b[0m",
      "\u001b[1;31mKeyError\u001b[0m                                  Traceback (most recent call last)",
      "Input \u001b[1;32mIn [173]\u001b[0m, in \u001b[0;36m<cell line: 1>\u001b[1;34m()\u001b[0m\n\u001b[1;32m----> 1\u001b[0m \u001b[43mmusteri_bilgileri\u001b[49m\u001b[43m[\u001b[49m\u001b[38;5;241;43m0\u001b[39;49m\u001b[43m]\u001b[49m\n",
      "\u001b[1;31mKeyError\u001b[0m: 0"
     ]
    }
   ],
   "source": [
    "musteri_bilgileri[0]"
   ]
  },
  {
   "cell_type": "code",
   "execution_count": 174,
   "id": "90cbe137",
   "metadata": {},
   "outputs": [
    {
     "data": {
      "text/plain": [
       "{'book': 'kitap', 'pencil': 'kalem', 'table': 'masa'}"
      ]
     },
     "execution_count": 174,
     "metadata": {},
     "output_type": "execute_result"
    }
   ],
   "source": [
    "sozluk"
   ]
  },
  {
   "cell_type": "code",
   "execution_count": 175,
   "id": "de806033",
   "metadata": {},
   "outputs": [
    {
     "data": {
      "text/plain": [
       "{'book': 'kitap', 'pencil': 'kalem', 'table': 'masa', 'glass': 'bardak'}"
      ]
     },
     "execution_count": 175,
     "metadata": {},
     "output_type": "execute_result"
    }
   ],
   "source": [
    "#sözlüklere öğe eklemek\n",
    "sozluk[\"glass\"]=\"bardak\"\n",
    "sozluk"
   ]
  },
  {
   "cell_type": "code",
   "execution_count": 176,
   "id": "30dfabae",
   "metadata": {},
   "outputs": [],
   "source": [
    "sozluk[\"fork\"] = \"çatal\""
   ]
  },
  {
   "cell_type": "code",
   "execution_count": 177,
   "id": "ea1a72ed",
   "metadata": {},
   "outputs": [
    {
     "data": {
      "text/plain": [
       "{'book': 'kitap',\n",
       " 'pencil': 'kalem',\n",
       " 'table': 'masa',\n",
       " 'glass': 'bardak',\n",
       " 'fork': 'çatal'}"
      ]
     },
     "execution_count": 177,
     "metadata": {},
     "output_type": "execute_result"
    }
   ],
   "source": [
    "sozluk"
   ]
  },
  {
   "cell_type": "code",
   "execution_count": 178,
   "id": "4ef43661",
   "metadata": {},
   "outputs": [
    {
     "data": {
      "text/plain": [
       "{'İstanbul': 34, 'Isparta': 32, 'İzmir': 35, 'Burdur': 15}"
      ]
     },
     "execution_count": 178,
     "metadata": {},
     "output_type": "execute_result"
    }
   ],
   "source": [
    "plaka[\"Burdur\"]=15\n",
    "plaka"
   ]
  },
  {
   "cell_type": "code",
   "execution_count": 179,
   "id": "7b0b30f4",
   "metadata": {},
   "outputs": [],
   "source": [
    "plaka[\"Denizli\"]=20"
   ]
  },
  {
   "cell_type": "code",
   "execution_count": 180,
   "id": "7ac1f51b",
   "metadata": {},
   "outputs": [
    {
     "data": {
      "text/plain": [
       "{'İstanbul': 34, 'Isparta': 32, 'İzmir': 35, 'Burdur': 15, 'Denizli': 20}"
      ]
     },
     "execution_count": 180,
     "metadata": {},
     "output_type": "execute_result"
    }
   ],
   "source": [
    "plaka"
   ]
  },
  {
   "cell_type": "markdown",
   "id": "776c45ca",
   "metadata": {},
   "source": [
    "Sözlükler değer olarak her veri tipini kabul ederken, anahtarlar(key) immutable(değiştirilemeyen) veri tiplerini kabul eder.\n",
    "Değiştirilemeyen veri tipleri:\n",
    "- int\n",
    "- string\n",
    "- tuple"
   ]
  },
  {
   "cell_type": "code",
   "execution_count": 181,
   "id": "0ea8e685",
   "metadata": {},
   "outputs": [],
   "source": [
    "yeni_sozluk ={}"
   ]
  },
  {
   "cell_type": "code",
   "execution_count": 182,
   "id": "565aa569",
   "metadata": {},
   "outputs": [
    {
     "data": {
      "text/plain": [
       "{'isim': 'Ahmet'}"
      ]
     },
     "execution_count": 182,
     "metadata": {},
     "output_type": "execute_result"
    }
   ],
   "source": [
    "yeni_sozluk[\"isim\"]=\"Ahmet\"\n",
    "yeni_sozluk"
   ]
  },
  {
   "cell_type": "code",
   "execution_count": 183,
   "id": "d96f8c95",
   "metadata": {},
   "outputs": [
    {
     "data": {
      "text/plain": [
       "{'isim': 'Ahmet', 45: [1, 3, 5, 9, 15, 45]}"
      ]
     },
     "execution_count": 183,
     "metadata": {},
     "output_type": "execute_result"
    }
   ],
   "source": [
    "yeni_sozluk[45]=[1,3,5,9,15,45]\n",
    "yeni_sozluk"
   ]
  },
  {
   "cell_type": "code",
   "execution_count": 184,
   "id": "1c8a8312",
   "metadata": {},
   "outputs": [
    {
     "data": {
      "text/plain": [
       "{'isim': 'Ahmet', 45: [1, 3, 5, 9, 15, 45], (1, 2, 3): 'a,b,c'}"
      ]
     },
     "execution_count": 184,
     "metadata": {},
     "output_type": "execute_result"
    }
   ],
   "source": [
    "yeni_sozluk[(1,2,3)]=\"a,b,c\"\n",
    "yeni_sozluk"
   ]
  },
  {
   "cell_type": "code",
   "execution_count": 185,
   "id": "08c58fae",
   "metadata": {},
   "outputs": [
    {
     "data": {
      "text/plain": [
       "{'ayşe yılmaz': {'Müşteri numarası': '479621',\n",
       "  'Şehir': 'İstanbul',\n",
       "  'Yaş': 36,\n",
       "  'Meslek': 'Öğretmen'},\n",
       " 'mine sönmez': {'Müşteri numarası': '851743',\n",
       "  'Şehir': 'Ankara',\n",
       "  'Yaş': 24,\n",
       "  'Meslek': 'Hemşire'},\n",
       " 'emir alpay': {'Müşteri numarası': '743266',\n",
       "  'Şehir': 'Bursa',\n",
       "  'Yaş': 27,\n",
       "  'Meslek': 'Mühendis'},\n",
       " 'sevim kara': {'Müşteri numarası': '154798',\n",
       "  'Şehir': 'İzmir',\n",
       "  'Yaş': 21,\n",
       "  'Meslek': 'Öğrenci'}}"
      ]
     },
     "execution_count": 185,
     "metadata": {},
     "output_type": "execute_result"
    }
   ],
   "source": [
    "#Sözlükteki değerleri değiştirmek\n",
    "\n",
    "musteri_bilgileri"
   ]
  },
  {
   "cell_type": "code",
   "execution_count": 186,
   "id": "4564aca1",
   "metadata": {},
   "outputs": [
    {
     "data": {
      "text/plain": [
       "{'ayşe yılmaz': {'Müşteri numarası': '479621',\n",
       "  'Şehir': 'İstanbul',\n",
       "  'Yaş': 36,\n",
       "  'Meslek': 'Öğretmen'},\n",
       " 'mine sönmez': {'Müşteri numarası': '851743',\n",
       "  'Şehir': 'Ankara',\n",
       "  'Yaş': 24,\n",
       "  'Meslek': 'Hemşire'},\n",
       " 'emir alpay': {'Müşteri numarası': '743266',\n",
       "  'Şehir': 'Bursa',\n",
       "  'Yaş': 45,\n",
       "  'Meslek': 'Mühendis'},\n",
       " 'sevim kara': {'Müşteri numarası': '154798',\n",
       "  'Şehir': 'İzmir',\n",
       "  'Yaş': 21,\n",
       "  'Meslek': 'Öğrenci'}}"
      ]
     },
     "execution_count": 186,
     "metadata": {},
     "output_type": "execute_result"
    }
   ],
   "source": [
    "musteri_bilgileri[\"emir alpay\"][\"Yaş\"] = 45\n",
    "musteri_bilgileri"
   ]
  },
  {
   "cell_type": "code",
   "execution_count": 187,
   "id": "d81548a5",
   "metadata": {},
   "outputs": [
    {
     "data": {
      "text/plain": [
       "{'book': 'kitap',\n",
       " 'pencil': 'kalem',\n",
       " 'table': 'masa',\n",
       " 'glass': 'bardak',\n",
       " 'fork': 'çatal'}"
      ]
     },
     "execution_count": 187,
     "metadata": {},
     "output_type": "execute_result"
    }
   ],
   "source": [
    "sozluk"
   ]
  },
  {
   "cell_type": "code",
   "execution_count": 188,
   "id": "4de65619",
   "metadata": {},
   "outputs": [
    {
     "data": {
      "text/plain": [
       "dict_keys(['book', 'pencil', 'table', 'glass', 'fork'])"
      ]
     },
     "execution_count": 188,
     "metadata": {},
     "output_type": "execute_result"
    }
   ],
   "source": [
    "#keys metodunu,sözlüğün sadece anahtarlarını almak istediğimizde kullanırız\n",
    "#bu metod bize dict_keys nesnesi veriyor.\n",
    "sozluk.keys()"
   ]
  },
  {
   "cell_type": "code",
   "execution_count": 189,
   "id": "53772324",
   "metadata": {},
   "outputs": [
    {
     "data": {
      "text/plain": [
       "['book', 'pencil', 'table', 'glass', 'fork']"
      ]
     },
     "execution_count": 189,
     "metadata": {},
     "output_type": "execute_result"
    }
   ],
   "source": [
    "#Bu nesneyi kullanmak için liste ya da tuple a dönüştürebilirz\n",
    "liste =list(sozluk.keys())\n",
    "liste"
   ]
  },
  {
   "cell_type": "code",
   "execution_count": 190,
   "id": "bf47b6ba",
   "metadata": {},
   "outputs": [
    {
     "data": {
      "text/plain": [
       "dict_values(['kitap', 'kalem', 'masa', 'bardak', 'çatal'])"
      ]
     },
     "execution_count": 190,
     "metadata": {},
     "output_type": "execute_result"
    }
   ],
   "source": [
    "#values metodunu,sözlüğün sadece değerini almak istediğimizde kullanırız\n",
    "sozluk.values()"
   ]
  },
  {
   "cell_type": "code",
   "execution_count": 191,
   "id": "99bcade7",
   "metadata": {},
   "outputs": [
    {
     "data": {
      "text/plain": [
       "['kitap', 'kalem', 'masa', 'bardak', 'çatal']"
      ]
     },
     "execution_count": 191,
     "metadata": {},
     "output_type": "execute_result"
    }
   ],
   "source": [
    "list(sozluk.values())"
   ]
  },
  {
   "cell_type": "code",
   "execution_count": 192,
   "id": "015ff7d8",
   "metadata": {},
   "outputs": [
    {
     "data": {
      "text/plain": [
       "dict_items([('book', 'kitap'), ('pencil', 'kalem'), ('table', 'masa'), ('glass', 'bardak'), ('fork', 'çatal')])"
      ]
     },
     "execution_count": 192,
     "metadata": {},
     "output_type": "execute_result"
    }
   ],
   "source": [
    "#items metodu, sözlüğün hem anahtarlarını hem de değerlerini almamızı sağlar.\n",
    "sozluk.items()"
   ]
  },
  {
   "cell_type": "code",
   "execution_count": 193,
   "id": "fd3a06f9",
   "metadata": {},
   "outputs": [
    {
     "name": "stdout",
     "output_type": "stream",
     "text": [
      "book = kitap\n",
      "pencil = kalem\n",
      "table = masa\n",
      "glass = bardak\n",
      "fork = çatal\n"
     ]
    }
   ],
   "source": [
    "for key,value in sozluk.items():\n",
    "    print(\"{} = {}\".format(key,value))"
   ]
  },
  {
   "cell_type": "code",
   "execution_count": 195,
   "id": "a28042db",
   "metadata": {},
   "outputs": [
    {
     "name": "stdout",
     "output_type": "stream",
     "text": [
      "Lütfen anlamını öğrenmek istediğiniz kelimeyi yazınız:oencil\n",
      "Bu kelime veritabanımızda yoktur!\n"
     ]
    }
   ],
   "source": [
    "ing_sözlük = {\"dil\": \"language\", \"bilgisayar\": \"computer\", \"masa\": \"table\"}\n",
    "\n",
    "sorgu = input(\"Lütfen anlamını öğrenmek istediğiniz kelimeyi yazınız:\")\n",
    "\n",
    "print(ing_sözlük.get(sorgu, \"Bu kelime veritabanımızda yoktur!\"))"
   ]
  },
  {
   "cell_type": "code",
   "execution_count": 196,
   "id": "16ca755b",
   "metadata": {},
   "outputs": [
    {
     "data": {
      "text/plain": [
       "{'book': 'kitap',\n",
       " 'pencil': 'kalem',\n",
       " 'table': 'masa',\n",
       " 'glass': 'bardak',\n",
       " 'fork': 'çatal'}"
      ]
     },
     "execution_count": 196,
     "metadata": {},
     "output_type": "execute_result"
    }
   ],
   "source": [
    "#get metodu\n",
    "sozluk"
   ]
  },
  {
   "cell_type": "code",
   "execution_count": 197,
   "id": "68b2db0e",
   "metadata": {},
   "outputs": [
    {
     "name": "stdout",
     "output_type": "stream",
     "text": [
      "Hangi kelimenin anlamını öğrenmek istersiniz: computer\n",
      "Sözlükte böyle bir kelime bulunmamaktır.\n"
     ]
    }
   ],
   "source": [
    "kelime = input(\"Hangi kelimenin anlamını öğrenmek istersiniz: \")\n",
    "\n",
    "print(sozluk.get(kelime,\"Sözlükte böyle bir kelime bulunmamaktır.\"))\n",
    "#get metodu, parantez içine iki argüman alır. Birincisi sorgulamak istenen sözlük öğesidir.\n",
    "# İkincisi ise öğenin sözlükte bulunmadığı durumda kullanıcıya gösterilecek olan mesaj"
   ]
  },
  {
   "cell_type": "code",
   "execution_count": null,
   "id": "033b03b5",
   "metadata": {},
   "outputs": [],
   "source": [
    "#Buna göre,yukarıdaki bazı örnekler için get metodu kullanalım"
   ]
  },
  {
   "cell_type": "code",
   "execution_count": null,
   "id": "5b122c0d",
   "metadata": {},
   "outputs": [],
   "source": [
    "musteri_bilgileri = {\"ayşe yılmaz\":\"479621\",\n",
    "                    \"mine sönmez\":\"851743\",\n",
    "                    \"emir alpay\":\"743266\",\n",
    "                    \"sevim kara\":\"154798\"}\n",
    "\n",
    "isim = input(\"Müşteri numarasını öğrenmek istediğiniz kişinin ismini giriniz: \")\n",
    "\n",
    "print(\"{} isimli kişinin müşteri numarası: {}\".format(isim,musteri_bilgileri.get(isim)))"
   ]
  },
  {
   "cell_type": "code",
   "execution_count": 199,
   "id": "2f869b0a",
   "metadata": {},
   "outputs": [
    {
     "name": "stdout",
     "output_type": "stream",
     "text": [
      "Müşterinin ismini giriniz: ali\n",
      "ali isimli kişinin bilgileri: Girilen isimde müşteri yoktur!!\n"
     ]
    }
   ],
   "source": [
    "musteri_bilgileri = {\"ayşe yılmaz\":{\"Müşteri numarası\":\"479621\",\n",
    "                                    \"Şehir\":\"İstanbul\",\n",
    "                                    \"Yaş\":36,\n",
    "                                    \"Meslek\":\"Öğretmen\"},\n",
    "                     \n",
    "                    \"mine sönmez\":{\"Müşteri numarası\":\"851743\",\n",
    "                                   \"Şehir\":\"Ankara\",\n",
    "                                   \"Yaş\":24,\n",
    "                                   \"Meslek\":\"Hemşire\"},\n",
    "                     \n",
    "                    \"emir alpay\":{\"Müşteri numarası\":\"743266\",\n",
    "                                  \"Şehir\":\"Bursa\",\n",
    "                                  \"Yaş\":27,\n",
    "                                  \"Meslek\":\"Mühendis\"},\n",
    "                     \n",
    "                    \"sevim kara\":{\"Müşteri numarası\":\"154798\",\n",
    "                                  \"Şehir\":\"İzmir\",\n",
    "                                  \"Yaş\":21,\n",
    "                                  \"Meslek\":\"Öğrenci\"}}\n",
    "\n",
    "isim = input(\"Müşterinin ismini giriniz: \")\n",
    "\n",
    "print(\"{} isimli kişinin bilgileri: {}\".format(isim, musteri_bilgileri.get(isim,\"Girilen isimde müşteri yoktur!!\")))"
   ]
  },
  {
   "cell_type": "code",
   "execution_count": null,
   "id": "e8d13adc",
   "metadata": {},
   "outputs": [],
   "source": []
  },
  {
   "cell_type": "code",
   "execution_count": null,
   "id": "e7443c20",
   "metadata": {},
   "outputs": [],
   "source": []
  }
 ],
 "metadata": {
  "kernelspec": {
   "display_name": "Python 3 (ipykernel)",
   "language": "python",
   "name": "python3"
  },
  "language_info": {
   "codemirror_mode": {
    "name": "ipython",
    "version": 3
   },
   "file_extension": ".py",
   "mimetype": "text/x-python",
   "name": "python",
   "nbconvert_exporter": "python",
   "pygments_lexer": "ipython3",
   "version": "3.9.12"
  }
 },
 "nbformat": 4,
 "nbformat_minor": 5
}
