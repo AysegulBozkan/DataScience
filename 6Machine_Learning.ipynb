{
 "cells": [
  {
   "cell_type": "markdown",
   "id": "4f11e7b4",
   "metadata": {},
   "source": [
    "# Makine Öğrenmesi"
   ]
  },
  {
   "cell_type": "markdown",
   "id": "4936c568",
   "metadata": {},
   "source": [
    "- Chatbotlar ve kişisel asistanlar (doğal dil işleme vs.)\n",
    "- Facebook’a fotoğraf eklediğinde Facebook’un etiketleme önerisi (Arka tarafta bulunan fotoğrafları kullanarak Derin Öğrenme uygulaması)\n",
    "- Netflix, Amazon ve E-ticaret tavsiyeleri\n",
    "- Spam Engelleme çalışmaları (Sınıflandırmaya göre algoritma karar veriyor)\n",
    "- Cümle tamamlama ve Smile tamamlama\n",
    "- Sahtekarlık Önleme çalışmaları (Fraud Prevention)\n",
    "- Kredi Başvurusu Değerlendirme (Karar Destek Sistemleri)"
   ]
  },
  {
   "cell_type": "markdown",
   "id": "c6c35f58",
   "metadata": {},
   "source": [
    "<img src=\"ml_1.jpg\" style=\"widht:500px;height:300px\">"
   ]
  },
  {
   "cell_type": "markdown",
   "id": "26c2e344",
   "metadata": {},
   "source": [
    "<img src=\"ml_2.jpg\" style=\"widht:500px;height:300px\">"
   ]
  },
  {
   "cell_type": "markdown",
   "id": "c8a40cfe",
   "metadata": {},
   "source": [
    "**Bağımlı Değişken:** "
   ]
  },
  {
   "cell_type": "markdown",
   "id": "0eb02c30",
   "metadata": {},
   "source": [
    "**Bağımsız Değişken:** "
   ]
  },
  {
   "cell_type": "markdown",
   "id": "2e909139",
   "metadata": {},
   "source": [
    "## Öğrenme Türleri\n"
   ]
  },
  {
   "cell_type": "markdown",
   "id": "4125495b",
   "metadata": {},
   "source": [
    "### Gözetimli Öğrenme:\n",
    "Bağımlı ve bağımsız değişken bulunuyorsa, bağımsız değişkenler üzerinden model eğitilir ve bağımlı degişken tahmin ediliyorsa gözetimli öğrenme kullanılmıştır. Regresyon ve sınıflandırma bu öğrenme türüne örnektir."
   ]
  },
  {
   "cell_type": "markdown",
   "id": "e8b3f32e",
   "metadata": {},
   "source": [
    "**Regresyon:** Bağımlı değişken sayısal / sürekli bir değişken ise bu bir regresyon problemidir. Örn: Evin sahip olduğu özelliklere göre(yaş,konum,metrekare,oda sayısı, banyo sayısı vs.) satış fiyatını tahmin etme."
   ]
  },
  {
   "cell_type": "markdown",
   "id": "7bb369b8",
   "metadata": {},
   "source": [
    "**Sınıflandırma:**  Bağımlı değişken kategorik bir değişken ise bu bir sınıflandırma problemidir. Örn: Gelen bir mailin spam olup olmama durumu."
   ]
  },
  {
   "cell_type": "markdown",
   "id": "c5d683b6",
   "metadata": {},
   "source": [
    "### Gözetimsiz Öğrenme:\n",
    "Gözetimsiz öğrenmede çıktılar çalışmanın içinde bulunmaz. Gözlemlenen birimler benzer özelliklerine göre bir araya getirilir. Gözetimsiz öğrenme, etiketlenmemiş veri kümelerini analiz etmek ve kümelemek için yapay öğrenme algoritmalarını kullanır.\n",
    "Örn: Öneri motorları, müşteri kişilikleri "
   ]
  },
  {
   "cell_type": "markdown",
   "id": "c450bad7",
   "metadata": {},
   "source": [
    "<img src=\"ml_3.png\" style=\"widht:600px;height:400px\">"
   ]
  },
  {
   "cell_type": "markdown",
   "id": "4c1affa2",
   "metadata": {},
   "source": [
    "### Model Eğitmek - Test Etmek (Training - Testing)\n",
    "Veri setimizi ikiye ayırıyoruruz. Eğitim seti ve test seti olarak. Bu ayrımı %80 eğtim seti, %20 test seti olarak genelleyebiliriz. Train ve test etmekte amaç, eğitilecek modelin ilk defa karşılaşılan veriyi tahmin etme durumunun simüle edilmesidir. Model, train set ile eğitilerek bir genelleme yapar ve ilk defa karşılaştığı veriler için bir tahminde bulunur. \n",
    "\n",
    "**Overfitting - Underfitting:** Modelin **overfit** olması train verisi üzerinden bir genelleme yapmadığı ve veriyi ezberlediği anlamına gelir. Eğitilen verideki tahmin başarısı çok iyi olsada ilk defa karşılaştığı verilerde kötü sonuç verir. **Underfit** olma durumu ise modelin öğrenmeyi gerçelştirememesidir.\n",
    "\n",
    "<img src=\"ml_4.png\" style=\"widht:400px;height:300px\">"
   ]
  },
  {
   "cell_type": "markdown",
   "id": "ed1401f4",
   "metadata": {},
   "source": [
    "### Model Doğrulama (Model Validation) Yöntemleri\n",
    "Model başarısını değerlendirmeyi daha doğru yapmamızı sağlayan yöntemlerdir.\n",
    "**Holdout Yöntemi:**  Veri setini %80 — %20 olarak eğitim ve test seti olarak ayırıyoruz.\n",
    "\n",
    "<img src=\"ml_6.png\" style=\"widht:200px;height:200px\">\n",
    "\n",
    "**K-Katlı Çapraz Doğrulama (K Fold Cross Validation) Yöntemi:** Veri seti k adet parçaya ayrılır. Daha sonra belirlenen alt kümlerden birisi dışarıda bırakılır. Elde kalan diğer kümeler ile model oluşturulur ve model dışarıda bırakılan küme ile test edilir. Bu çalışma bütün parçalar için tekrar edilir.Elde edilen hataların ortalaması alındığında bu bizim validasyon/doğrulama (eğitim) hatası olur. Daha sonra çalışmanın en başında böldüğümüz test seti ile modelimizi test ederiz.\n",
    "\n",
    "<img src=\"ml_5.png\" style=\"widht:400px;height:300px\">\n",
    "\n",
    "**Leave One Out Yöntemi**\n",
    "\n",
    "**Bootstrap Yöntemi**"
   ]
  },
  {
   "cell_type": "markdown",
   "id": "63b3b5fe",
   "metadata": {},
   "source": [
    "### Model Başarı yöntemleri\n",
    "\n",
    "https://ufukcolak.medium.com/makine-%C3%B6%C4%9Frenmesi-model-ba%C5%9Far%C4%B1-de%C4%9Ferlendirme-%C3%B6l%C3%A7%C3%BCtleri-3-26014630d7ce"
   ]
  },
  {
   "cell_type": "markdown",
   "id": "bda88128",
   "metadata": {},
   "source": [
    "### Makine öğrenmesi modelleri "
   ]
  },
  {
   "cell_type": "markdown",
   "id": "589891da",
   "metadata": {},
   "source": [
    "Regresyon:\n",
    "\n",
    "https://simgeerek.medium.com/makine-%C3%B6%C4%9Frenmesi-algoritmalar%C4%B1-do%C4%9Frusal-regresyon-23f8060d94e\n",
    "https://medium.com/kodcular/makine-%C3%B6%C4%9Frenimi-b%C3%B6l%C3%BCm-6-regresyon-3d837236eb6b"
   ]
  },
  {
   "cell_type": "markdown",
   "id": "eddbf780",
   "metadata": {},
   "source": [
    "Destek Vektör Makineleri:\n",
    "\n",
    "https://medium.com/@k.ulgen90/makine-%C3%B6%C4%9Frenimi-b%C3%B6l%C3%BCm-4-destek-vekt%C3%B6r-makineleri-2f8010824054\n"
   ]
  },
  {
   "cell_type": "markdown",
   "id": "8c7e8af6",
   "metadata": {},
   "source": [
    "K-En Yakın Komşu:\n",
    "\n",
    "https://medium.com/@k.ulgen90/makine-%C3%B6%C4%9Frenimi-b%C3%B6l%C3%BCm-2-6d6d120a18e1"
   ]
  },
  {
   "cell_type": "markdown",
   "id": "be9fa2c2",
   "metadata": {},
   "source": [
    "Random Forest:\n",
    "\n",
    "https://ece-akdagli.medium.com/makine-%C3%B6%C4%9Frenmesinde-random-forest-algoritmas%C4%B1-a79b044bbb31#:~:text=Karar%20a%C4%9Fa%C3%A7lar%C4%B1%20algoritmas%C4%B1%20ile%20aras%C4%B1ndaki,d%C3%BC%C4%9F%C3%BCmleri%20b%C3%B6lme%20i%C5%9Fleminin%20rastgele%20olmas%C4%B1d%C4%B1r.&text=Random%20forest%20algoritmas%C4%B1%2C%20elinde%20yeterli,bir%20veri%20haz%C4%B1rl%C4%B1%C4%9F%C4%B1na%20ihtiya%C3%A7%20duyar."
   ]
  },
  {
   "cell_type": "markdown",
   "id": "46e956ad",
   "metadata": {},
   "source": [
    "Light GBM:\n",
    "\n",
    "https://medium.com/yaz%C4%B1l%C4%B1m-bilimi/light-gbm-ile-m%C3%BC%C5%9Fteri-kay%C4%B1p-tahminlemesi-churn-prediction-77b7dac58db4"
   ]
  },
  {
   "cell_type": "code",
   "execution_count": null,
   "id": "f83ae155",
   "metadata": {},
   "outputs": [],
   "source": []
  }
 ],
 "metadata": {
  "kernelspec": {
   "display_name": "Python 3 (ipykernel)",
   "language": "python",
   "name": "python3"
  },
  "language_info": {
   "codemirror_mode": {
    "name": "ipython",
    "version": 3
   },
   "file_extension": ".py",
   "mimetype": "text/x-python",
   "name": "python",
   "nbconvert_exporter": "python",
   "pygments_lexer": "ipython3",
   "version": "3.9.12"
  }
 },
 "nbformat": 4,
 "nbformat_minor": 5
}
