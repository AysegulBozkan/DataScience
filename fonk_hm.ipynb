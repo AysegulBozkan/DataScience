{
 "cells": [
  {
   "cell_type": "markdown",
   "metadata": {},
   "source": [
    "## Dairenin alanı uygulaması\n",
    "\n",
    "- Dairenin_alanı adında bir fonksiyon oluşturunuz.\n",
    "\n",
    "- Kullanıcıdan pi ve yarıçap bilgilerini  isteyiniz.\n",
    "\n",
    "- Daha sonra alan hesabını yapınız.\n",
    "\n",
    "\n",
    "\n",
    "EK BİLGİ: Dairenin alan formülü= pi * (yarıçap* * 2)\n"
   ]
  },
  {
   "cell_type": "code",
   "execution_count": 1,
   "metadata": {},
   "outputs": [
    {
     "name": "stdout",
     "output_type": "stream",
     "text": [
      "Yarıçapı giriniz: 3\n",
      "Pi değerini giriniz: 3.14\n",
      "Dairenin Alanı : 28.26\n"
     ]
    },
    {
     "data": {
      "text/plain": [
       "28.26"
      ]
     },
     "execution_count": 1,
     "metadata": {},
     "output_type": "execute_result"
    }
   ],
   "source": [
    "def Dairenin_alanı(yaricap,pi):\n",
    "    alan =  yaricap * yaricap * pi\n",
    "    print (\"Dairenin Alanı :\",alan)\n",
    "    return alan\n",
    " \n",
    "yaricap = float(input(\"Yarıçapı giriniz: \"))\n",
    "pi= float(input(\"Pi değerini giriniz: \"))\n",
    "\n",
    "Dairenin_alanı(yaricap,pi)\n",
    "     \n",
    "    "
   ]
  },
  {
   "cell_type": "code",
   "execution_count": null,
   "metadata": {},
   "outputs": [],
   "source": []
  },
  {
   "cell_type": "markdown",
   "metadata": {},
   "source": [
    "## Faktoriyel uygulaması\n",
    "\n",
    "- Faktoriyel adında fonksiyon oluşturunuz.\n",
    "\n",
    "- Döngü kullanarak paremetre olarak girilen sayının faktoriyelini hesaplayınız.\n",
    "\n",
    "- Format metodunu kullanarak ekrana yazdırınız.\n",
    "\n"
   ]
  },
  {
   "cell_type": "code",
   "execution_count": 35,
   "metadata": {},
   "outputs": [
    {
     "name": "stdout",
     "output_type": "stream",
     "text": [
      "Faktöriyelini bulmak istediğiniz sayıyı giriniz: 6\n",
      "Girilen 6 sayısının faktöriyeli: 720\n"
     ]
    }
   ],
   "source": [
    "def faktoriyel():\n",
    "    a = int (input(\"Faktöriyelini bulmak istediğiniz sayıyı giriniz: \"))\n",
    "    if a >= 0:\n",
    "        sonuc = 1\n",
    "        for i in range (1, a+1): \n",
    "            sonuc = sonuc*i\n",
    "    print(f\"Girilen {i} sayısının faktöriyeli: {sonuc}\")\n",
    "\n",
    "faktoriyel()\n",
    "\n",
    "        "
   ]
  },
  {
   "cell_type": "code",
   "execution_count": null,
   "metadata": {},
   "outputs": [],
   "source": []
  },
  {
   "cell_type": "markdown",
   "metadata": {},
   "source": [
    "## Class Uygulaması\n",
    "- Bir Personel classı oluşturunuz.\n",
    "- Attributes: id, isim, soyisim, doğum yılı, departman, haftada kaç saat çalıştığı, saatlik ücret\n",
    "- Attributleri print ve formatlama ile ekrana yazdırılız.\n",
    "\n",
    "! Örnek Formatlama: print(f'd1 : alan = {d1.alan_hesapla()} çevre = {d1.cevre_hesapla()}') "
   ]
  },
  {
   "cell_type": "code",
   "execution_count": 42,
   "metadata": {},
   "outputs": [
    {
     "name": "stdout",
     "output_type": "stream",
     "text": [
      "id: 1234567\n",
      "İsim: Ayşegül\n",
      "Soyisim: Bozkan\n",
      "Doğum yılı: 1998\n",
      "Departman: Data Engineer\n",
      "Haftalık çalışma saati: 30\n",
      "Saatlik ücret: 500\n"
     ]
    }
   ],
   "source": [
    "class Personel:\n",
    "    def __init__( self, id, isim, soyisim, dogum_yili, departman, calısma_süresi, saatlik_ücret):\n",
    "        self.id = id\n",
    "        self.isim = isim\n",
    "        self.soyisim = soyisim\n",
    "        self.dogum_yili = dogum_yili\n",
    "        self.departman = departman\n",
    "        self.calısma_süresi = calısma_süresi\n",
    "        self.saatlik_ücret = saatlik_ücret\n",
    "    def personel_bilgiler(self):\n",
    "        print(f'id: {self.id}')\n",
    "        print(f'İsim: {self.isim}')\n",
    "        print(f'Soyisim: {self.soyisim}')\n",
    "        print(f'Doğum yılı: {self.dogum_yili}')\n",
    "        print(f'Departman: {self.departman}')\n",
    "        print(f'Haftalık çalışma saati: {self.calısma_süresi}')\n",
    "        print(f'Saatlik ücret: {self.saatlik_ücret}')\n",
    "        \n",
    "personel = Personel(1234567, \"Ayşegül\", \"Bozkan\", 1998, \"Data Engineer\", 30, 500)\n",
    "personel.personel_bilgiler()"
   ]
  },
  {
   "cell_type": "code",
   "execution_count": null,
   "metadata": {},
   "outputs": [],
   "source": []
  },
  {
   "cell_type": "markdown",
   "metadata": {},
   "source": [
    "## Class Metotları\n",
    "\n",
    "- Personel classına aşağıdaki metotları ekleyiniz.\n",
    "\t- Yaş hesaplama: Güncel yıl - doğum yılı\n",
    "    - Maaş hesaplama: çalıştığı saat * saatlik ücret\n",
    "- Metot çıktılarını attributler ile birlikte format kullanarak gösteriniz."
   ]
  },
  {
   "cell_type": "code",
   "execution_count": 46,
   "metadata": {},
   "outputs": [
    {
     "name": "stdout",
     "output_type": "stream",
     "text": [
      "id: 1234567\n",
      "İsim: Ayşegül\n",
      "Soyisim: Bozkan\n",
      "Doğum yılı: 1998\n",
      "Departman: Data Engineer\n",
      "Haftalık çalışma saati: 30\n",
      "Saatlik ücret: 500\n",
      "Yaş: 25\n",
      "Maaş: 15000\n"
     ]
    }
   ],
   "source": [
    "class Personel:\n",
    "    def __init__( self, id, isim, soyisim, dogum_yili, departman, calısma_süresi, saatlik_ücret):\n",
    "        self.id = id\n",
    "        self.isim = isim\n",
    "        self.soyisim = soyisim\n",
    "        self.dogum_yili = dogum_yili\n",
    "        self.departman = departman\n",
    "        self.calısma_süresi = calısma_süresi\n",
    "        self.saatlik_ücret = saatlik_ücret\n",
    "    def yas_hesaplama(self, guncel_yil):\n",
    "        yas = guncel_yil - self.dogum_yili\n",
    "        return yas\n",
    "    def maas_hesaplama(self):\n",
    "        maas = self.calısma_süresi * self.saatlik_ücret\n",
    "        return maas\n",
    "    def personel_bilgiler(self):\n",
    "        print(f'id: {self.id}')\n",
    "        print(f'İsim: {self.isim}')\n",
    "        print(f'Soyisim: {self.soyisim}')\n",
    "        print(f'Doğum yılı: {self.dogum_yili}')\n",
    "        print(f'Departman: {self.departman}')\n",
    "        print(f'Haftalık çalışma saati: {self.calısma_süresi}')\n",
    "        print(f'Saatlik ücret: {self.saatlik_ücret}')\n",
    "        print(f'Yaş: {self.yas_hesaplama(2023)}')\n",
    "        print(f'Maaş: {self.maas_hesaplama()}')\n",
    "   \n",
    "personel = Personel(1234567, \"Ayşegül\", \"Bozkan\", 1998, \"Data Engineer\", 30, 500)\n",
    "personel.personel_bilgiler()\n"
   ]
  },
  {
   "cell_type": "code",
   "execution_count": null,
   "metadata": {},
   "outputs": [],
   "source": []
  },
  {
   "cell_type": "markdown",
   "metadata": {},
   "source": [
    "## INHERITANCE (KALITIM)"
   ]
  },
  {
   "cell_type": "markdown",
   "metadata": {},
   "source": [
    "\"Calisan\" adlı bir sınıf tanımlayın. Bu sınıfa \"ad\", \"soyad\", \"maas\" özellikleri ekleyin. Bu sınıfta bir \"calis\" metodunu tanımlayın, bu metod çalışanların işyerinde çalıştığını belirten bir çıktı versin"
   ]
  },
  {
   "cell_type": "code",
   "execution_count": 48,
   "metadata": {},
   "outputs": [
    {
     "name": "stdout",
     "output_type": "stream",
     "text": [
      "Ayşegül Bozkan bu iş yerinde çalışıyor.\n"
     ]
    }
   ],
   "source": [
    "class Calisan:\n",
    "    def  __init__( self, ad, soyad, maas):\n",
    "        self.ad = ad\n",
    "        self.soyad = soyad\n",
    "        self.maas = maas\n",
    "    def calis(self):\n",
    "        print(f\"{self.ad} {self.soyad} bu iş yerinde çalışıyor.\")\n",
    "\n",
    "calisan = Calisan(\"Ayşegül\", \"Bozkan\", 15000)      \n",
    "calisan.calis()"
   ]
  },
  {
   "cell_type": "code",
   "execution_count": null,
   "metadata": {},
   "outputs": [],
   "source": []
  },
  {
   "cell_type": "markdown",
   "metadata": {},
   "source": [
    "\"Mudur\" adlı bir alt sınıf tanımlayın. \n",
    "Bu sınıf, \"Calisan\" sınıfından miras alsın. \"\n",
    "Mudur\" sınıfı, \"Calisan\" sınıfında tanımlanan özelliklere ek olarak, \"departman\" ve \"sicil_no\" gibi özellikleri içersin. \n",
    "Bu sınıfta bir \"calis\" metodu tanımlayın, bu metod çalışanların işyerinde yönetici olarak çalıştığını belirten bir çıktı versin."
   ]
  },
  {
   "cell_type": "code",
   "execution_count": 55,
   "metadata": {},
   "outputs": [
    {
     "name": "stdout",
     "output_type": "stream",
     "text": [
      "Ayşegül Bozkan bu iş yerinde yönetici olarak çalışıyor.\n"
     ]
    }
   ],
   "source": [
    "class Calisan:\n",
    "    def  __init__( self, ad, soyad, maas):\n",
    "        self.ad = ad\n",
    "        self.soyad = soyad\n",
    "        self.maas = maas\n",
    "class Mudur(Calisan):\n",
    "    def  __init__( self, ad, soyad, maas, departman, sicil_no):\n",
    "        Calisan.__init__(self,ad, soyad, maas)\n",
    "        self.departman = departman\n",
    "        self.sicil_no = sicil_no\n",
    "    def calis(self):\n",
    "        print(f\"{self.ad} {self.soyad} bu iş yerinde yönetici olarak çalışıyor.\")\n",
    "mudur = Mudur(\"Ayşegül\", \"Bozkan\", 25000, \"Yönetici\", 123456 )      \n",
    "mudur.calis()"
   ]
  },
  {
   "cell_type": "code",
   "execution_count": null,
   "metadata": {},
   "outputs": [],
   "source": []
  },
  {
   "cell_type": "markdown",
   "metadata": {},
   "source": [
    "\"Isci\" adlı bir alt sınıf tanımlayın. Bu sınıf da \"Calisan\" sınıfından miras alsın. \n",
    "\"Isci\" sınıfı, \"Calisan\" sınıfında tanımlanan özelliklere ek olarak, \"bolum\" ve \"is_gunu_sayisi\" gibi özellikleri içersin. \n",
    "Bu sınıfta bir \"calis\" metodu tanımlayın, bu metod çalışanların işyerinde işçi olarak çalıştığını belirten bir çıktı versin."
   ]
  },
  {
   "cell_type": "markdown",
   "metadata": {},
   "source": [
    "Calisan\", \"Mudur\" ve \"Isci\" sınıflarından birkaç örnek nesne oluşturun ve bu nesnelerin özelliklerini ve metodlarını çağırın. Örneğin, bir \"Mudur\" örneği oluşturun ve bu örneğin \"ad\", \"soyad\", \"departman\" ve \"sicil_no\" özelliklerini belirleyin. Ardından, \"calis\" metodunu çağırın ve bu yöneticinin işyerinde çalıştığını belirten bir çıktı alın."
   ]
  },
  {
   "cell_type": "code",
   "execution_count": 62,
   "metadata": {},
   "outputs": [
    {
     "name": "stdout",
     "output_type": "stream",
     "text": [
      "Ayşegül Bozkan bu iş yerinde işçi olarak çalışıyor.\n"
     ]
    }
   ],
   "source": [
    "class Calisan:\n",
    "    def  __init__( self, ad, soyad, maas):\n",
    "        self.ad = ad\n",
    "        self.soyad = soyad\n",
    "        self.maas = maas\n",
    "class Mudur(Calisan):\n",
    "    def  __init__( self, ad, soyad, maas, departman, sicil_no):\n",
    "        Calisan.__init__(self,ad, soyad, maas)\n",
    "        self.departman = departman\n",
    "        self.sicil_no = sicil_no\n",
    "class Isci(Calisan):\n",
    "    def  __init__( self, ad, soyad, maas, bolum, is_gunu_sayisi):\n",
    "        Calisan.__init__(self,ad, soyad, maas)\n",
    "        self.bolum = bolum\n",
    "        self.is_gunu_sayisi = is_gunu_sayisi\n",
    "    def calis(self):\n",
    "        print(f\"{self.ad} {self.soyad} bu iş yerinde işçi olarak çalışıyor.\")\n",
    "isci = Isci(\"Ayşegül\", \"Bozkan\", 25000, \"Muhasebe\", 5 )      \n",
    "isci.calis()"
   ]
  },
  {
   "cell_type": "code",
   "execution_count": null,
   "metadata": {},
   "outputs": [],
   "source": []
  },
  {
   "cell_type": "code",
   "execution_count": null,
   "metadata": {},
   "outputs": [],
   "source": []
  }
 ],
 "metadata": {
  "kernelspec": {
   "display_name": "Python 3 (ipykernel)",
   "language": "python",
   "name": "python3"
  },
  "language_info": {
   "codemirror_mode": {
    "name": "ipython",
    "version": 3
   },
   "file_extension": ".py",
   "mimetype": "text/x-python",
   "name": "python",
   "nbconvert_exporter": "python",
   "pygments_lexer": "ipython3",
   "version": "3.10.9"
  }
 },
 "nbformat": 4,
 "nbformat_minor": 2
}
