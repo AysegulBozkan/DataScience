{
 "cells": [
  {
   "cell_type": "markdown",
   "id": "ff87c8f7",
   "metadata": {},
   "source": [
    "# 1\n",
    "Kullanıcıdan maaş bilgisini isteyelim ve bu bilgiye göre maaşından ne kadar vergi kesileceğini hesaplayalım. (Oluşturulan vergi sistemi hayal ürünüdür :D)\n",
    "Kullanıcının geliri;\n",
    "- 10000 ve altındaysa maaşından %5 kesinti olsun.\n",
    "- 25000 ve altındaysa maaşından %10 kesinti olsun.\n",
    "- 45000 ve altındaysa maaşından %25 kesinti olsun.\n",
    "- Diğer koşullarda %30 kesinti olsun.\n",
    "\n",
    "Bu durumlara göre kullanıcının yeni maaşını yazdıralım."
   ]
  },
  {
   "cell_type": "code",
   "execution_count": 1,
   "id": "a6da3ea9",
   "metadata": {},
   "outputs": [
    {
     "name": "stdout",
     "output_type": "stream",
     "text": [
      "maaş bilgisi10000\n",
      "%5 kesintili maaşınız = 9500.0\n"
     ]
    }
   ],
   "source": [
    "a = int(input(\"maaş bilgisi\"));\n",
    "if a <= 10000:\n",
    "    a = (a*95)/100;\n",
    "    print(f\"%5 kesintili maaşınız = {a}\");\n",
    "elif a <= 25000:\n",
    "    a = (a*90)/100;\n",
    "    print(f\"%10 kesintili maaşınız = {a}\");\n",
    "elif a <= 45000:\n",
    "    a = (a*75)/100;\n",
    "    print(f\"%25 kesintili maaşınız = {a}\");\n",
    "else:\n",
    "    a = (a*70)/100;\n",
    "    print(f\"%30 kesintili maaşınız = {a}\");    "
   ]
  },
  {
   "cell_type": "markdown",
   "id": "77370310",
   "metadata": {},
   "source": [
    "# 2\n",
    "Kullanıcıdan kullanıcı adı ve şifre oluşturmasını isteyin. Şifrenin uzunluğu altı haneye ulaşmışsa hesabınız oluşturuldu mesajı alsın, altı haneden azsa altı haneli şifre oluşturması gerektiğinin mesajını alsın.(Sadece koşul kullanmanız yeterli.)"
   ]
  },
  {
   "cell_type": "code",
   "execution_count": 17,
   "id": "61ddc038",
   "metadata": {},
   "outputs": [
    {
     "name": "stdout",
     "output_type": "stream",
     "text": [
      "Kullanıcı adınızı giriniz = as\n",
      "Şifrenizi giriniz = sda45ddsa\n",
      "Lütfen 6 haneli şifre giriniz!\n"
     ]
    }
   ],
   "source": [
    "input (\"Kullanıcı adınızı giriniz = \");\n",
    "a = input (\"Şifrenizi giriniz = \");\n",
    "b = len(a)\n",
    "if b < 6:\n",
    "    print(\"Lütfen 6 haneli şifre giriniz!\");\n",
    "elif b > 6:\n",
    "    print(\"Lütfen 6 haneli şifre giriniz!\");\n",
    "else:\n",
    "    print(\"Hesabınız oluşturuldu\");"
   ]
  },
  {
   "cell_type": "markdown",
   "id": "fd529538",
   "metadata": {},
   "source": [
    "# 3\n",
    "Bir önceki örneği geliştiriyoruz. \n",
    "\n",
    "- Kullanıcı girdiği şifre 5 ve 10 hane arasında olmak zorunda olsun. \n",
    "- Eğer bu koşula uyuyorsa \"Hesabınız oluşturuldu.\" mesajı alsın\n",
    "- Koşulu sağlamıyorsa \"Lütfen girdiniz şifre 5 haneden az 1 haneden fazla olmasın!\" uyarısı alsın.\n",
    "- Bunu oluştururken kullanıcı istediğimiz şartlarda şifre oluşturuna kadar sormaya devam etsin."
   ]
  },
  {
   "cell_type": "code",
   "execution_count": 23,
   "id": "b882e6f9",
   "metadata": {},
   "outputs": [
    {
     "name": "stdout",
     "output_type": "stream",
     "text": [
      "Kullanıcı adınızı giriniz = as\n",
      "Şifrenizi giriniz = 123\n",
      "Lütfen girdiniz şifre 5 haneden az 10 haneden fazla olmasın!\n",
      "Şifrenizi giriniz = 12345678978887\n",
      "Lütfen girdiniz şifre 5 haneden az 10 haneden fazla olmasın!\n",
      "Şifrenizi giriniz = 123456\n",
      "Hesabınız oluşturuldu\n"
     ]
    }
   ],
   "source": [
    "input (\"Kullanıcı adınızı giriniz = \");\n",
    "while True :\n",
    "    a = input (\"Şifrenizi giriniz = \");\n",
    "    b = len(a); \n",
    "    if  5 < b < 10:\n",
    "        print(\"Hesabınız oluşturuldu\");\n",
    "        break\n",
    "    else:\n",
    "        print(\"Lütfen girdiniz şifre 5 haneden az 10 haneden fazla olmasın!\");\n",
    "   \n"
   ]
  },
  {
   "cell_type": "markdown",
   "id": "2fd0417d",
   "metadata": {},
   "source": [
    "# 4\n",
    "- Kullanıcıdan isim ve şifre isteyeceğiz ve şifre girişi için üç hak vereceğiz. \n",
    "- Eğer önceden tanımlı şifre ile kullanıdan gelen şifre aynıysa \"Giriş yapıldı.\" yazsın. \n",
    "- Şifre girişi yanlışşa \"Yanlış şifre girildi!\" uyarısı verilsin ve üç yanlış denemede program bitsin.\n",
    "- Tercihe göre kalan hak bilgisi verilsin"
   ]
  },
  {
   "cell_type": "code",
   "execution_count": null,
   "id": "6c89f3c7",
   "metadata": {},
   "outputs": [],
   "source": [
    "input (\"Kullanıcı adınızı giriniz = \");\n",
    "a = input (\"Şifrenizi giriniz = \");\n",
    "print(\"Hesabınız oluşturuldu.\");\n",
    "for i in range(3):\n",
    "    b = input (\"Şifrenizi giriniz = \");\n",
    "    if a == b:\n",
    "        print(\"Giriş yapıldı.\");\n",
    "        break\n",
    "    else:\n",
    "        print(\"Yanlış şifre girildi!\");\n",
    "        "
   ]
  }
 ],
 "metadata": {
  "kernelspec": {
   "display_name": "Python 3 (ipykernel)",
   "language": "python",
   "name": "python3"
  },
  "language_info": {
   "codemirror_mode": {
    "name": "ipython",
    "version": 3
   },
   "file_extension": ".py",
   "mimetype": "text/x-python",
   "name": "python",
   "nbconvert_exporter": "python",
   "pygments_lexer": "ipython3",
   "version": "3.10.9"
  }
 },
 "nbformat": 4,
 "nbformat_minor": 5
}
