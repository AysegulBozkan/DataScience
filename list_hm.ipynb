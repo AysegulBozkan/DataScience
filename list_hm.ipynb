{
 "cells": [
  {
   "cell_type": "markdown",
   "id": "229fb5e4",
   "metadata": {},
   "source": [
    "# 1 \n",
    "Enumerate methodunu araştırın ve aşağıdaki örneği enumerate methodu ile yapın."
   ]
  },
  {
   "cell_type": "code",
   "execution_count": 8,
   "id": "96f1c03c",
   "metadata": {},
   "outputs": [
    {
     "name": "stdout",
     "output_type": "stream",
     "text": [
      "(0, 'elma') (1, 'armut') (2, 'portakal')\n",
      "0. indexte bulunan meyve: elma\n",
      "1. indexte bulunan meyve: armut\n",
      "2. indexte bulunan meyve: portakal\n"
     ]
    }
   ],
   "source": [
    "meyveler = [\"elma\", \"armut\", \"portakal\"]\n",
    "print(*enumerate(meyveler))\n",
    "for index in range(len(meyveler)):\n",
    "    print(\"{}. indexte bulunan meyve: {}\".format(index,meyveler[index]))\n",
    "    "
   ]
  },
  {
   "cell_type": "markdown",
   "id": "853ffbe1",
   "metadata": {},
   "source": [
    "# 2\n",
    "Aşagıdaki listede bulunan string veri tipindeki öğeleri yeni_liste isimli değişkene ekleyin."
   ]
  },
  {
   "cell_type": "code",
   "execution_count": 14,
   "id": "cc8a78f7",
   "metadata": {},
   "outputs": [
    {
     "data": {
      "text/plain": [
       "['Python', '3', 'Hi-Kod', 'False']"
      ]
     },
     "execution_count": 14,
     "metadata": {},
     "output_type": "execute_result"
    }
   ],
   "source": [
    "liste = [\"Python\",True,9,\"3\",8.4,\"Hi-Kod\",\"False\",4.7]\n",
    "yeni_liste = []\n",
    "for l in liste:\n",
    "    a = type(l) == str \n",
    "    if a != False:\n",
    "        yeni_liste.append(l)\n",
    "yeni_liste\n",
    "  "
   ]
  },
  {
   "cell_type": "markdown",
   "id": "cec354f6",
   "metadata": {},
   "source": [
    "# 3\n",
    "- Bir sözlük oluşturalım ve bu sözlükte öğrencilerin isimleri ve Matematik,Fizik,Kimya notları tutulsun.\n",
    "- Kullanıcıdan isim ve ders ismi(Matematik,Fizik,Kimya) istensin ve bu bilgilere göre çıktı verilsin."
   ]
  },
  {
   "cell_type": "code",
   "execution_count": 15,
   "id": "957f1645",
   "metadata": {},
   "outputs": [
    {
     "name": "stdout",
     "output_type": "stream",
     "text": [
      "öğrenci adını giriniz: Ayşegül Bozkan\n",
      "dersin adını giriniz: matematik\n",
      "Ayşegül Bozkan, matematik dersinden 100 notunu almıştır.\n"
     ]
    }
   ],
   "source": [
    "sozluk = {\"Ayşegül Bozkan\" : {\"matematik\" : \"100\",\n",
    "                              \"fizik\": \"75\",\n",
    "                              \"kimya\" : \"85\" },\n",
    "           \"Enes Keskin\"   : {\"matematik\" : \"75\",\n",
    "                              \"fizik\": \"70\",\n",
    "                              \"kimya\" : \"55\" },\n",
    "         \"Nergis Demirtaş\" : {\"matematik\" : \"50\",\n",
    "                              \"fizik\": \"40\",\n",
    "                              \"kimya\" : \"60\" }}\n",
    "                    \n",
    "isim = input(\"öğrenci adını giriniz: \")\n",
    "ders = input(\"dersin adını giriniz: \")\n",
    "\n",
    "notu = sozluk[isim][ders]\n",
    "\n",
    "print(f\"{isim}, {ders} dersinden {notu} notunu almıştır.\")\n"
   ]
  },
  {
   "cell_type": "code",
   "execution_count": null,
   "id": "9e76a2bc",
   "metadata": {},
   "outputs": [],
   "source": []
  },
  {
   "cell_type": "code",
   "execution_count": null,
   "id": "5af8977b",
   "metadata": {},
   "outputs": [],
   "source": []
  }
 ],
 "metadata": {
  "kernelspec": {
   "display_name": "Python 3 (ipykernel)",
   "language": "python",
   "name": "python3"
  },
  "language_info": {
   "codemirror_mode": {
    "name": "ipython",
    "version": 3
   },
   "file_extension": ".py",
   "mimetype": "text/x-python",
   "name": "python",
   "nbconvert_exporter": "python",
   "pygments_lexer": "ipython3",
   "version": "3.10.9"
  }
 },
 "nbformat": 4,
 "nbformat_minor": 5
}
